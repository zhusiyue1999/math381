{
 "cells": [
  {
   "cell_type": "code",
   "execution_count": 2,
   "metadata": {
    "collapsed": false
   },
   "outputs": [
    {
     "data": {
      "text/plain": [
       "[1/2 1/6   0   0 1/6   0 1/6   0   0   0   0   0   0   0   0   0]\n",
       "[2/3   0   0   0 1/6   0 1/6   0   0   0   0   0   0   0   0   0]\n",
       "[1/3 1/6   0   0 1/6   0 1/6   0 1/6   0   0   0   0   0   0   0]\n",
       "[1/6 1/6   0   0 1/6   0 1/6   0 1/6 1/6   0   0   0   0   0   0]\n",
       "[  0 1/6   0 1/6   0   0 1/6   0 1/6 1/6 1/6   0   0   0   0   0]\n",
       "[1/6   0   0 1/6   0   0 1/6   0 1/6 1/6 1/6   0   0   0   0   0]\n",
       "[  0 1/6   0   0   0 1/6   0   0 1/6 1/6 1/6   0 1/6   0   0   0]\n",
       "[  0 1/6   0 1/6   0   0   0   0 1/6 1/6 1/6   0 1/6   0   0   0]\n",
       "[  0   0   0 1/6   0 1/6   0   0   0 1/6 1/6   0 1/6   0 1/6   0]\n",
       "[  0   0   0   0   0 1/6   0 1/6   0   0 1/6   0 1/6   0 1/6 1/6]\n",
       "[  0   0   0   0   0   0   0 1/6   0 1/6   0   0 1/6   0 1/6 1/3]\n",
       "[  0   0   0   0   0   0   0   0   0 1/6   0   0 1/6   0 1/6 1/2]\n",
       "[  0   0   0   0   0   0   0   0   0   0   0 1/6   0   0 1/6 2/3]\n",
       "[  0   0   0   0   0   0   0   0   0   0   0   0   0   0 1/6 5/6]\n",
       "[  0   0   0   0   0   0   0   0   0   0   0   0   0   0   0   1]\n",
       "[  0   0   0   0   0   0   0   0   0   0   0   0   0   0   0   1]"
      ]
     },
     "execution_count": 2,
     "metadata": {
     },
     "output_type": "execute_result"
    }
   ],
   "source": [
    "A=zero_matrix(QQ,16);\n",
    "for i in range(0,16):\n",
    "    for j in range(1,7):\n",
    "            if i+j >= 15:\n",
    "                A[i,15] = A[i,15] + 1/6\n",
    "            elif i+j not in Primes():\n",
    "                A[i,i+j] = A[i,i+j] + 1/6\n",
    "            elif i-j <= 0:\n",
    "                A[i,0] = A[i,0] + 1/6\n",
    "            else:\n",
    "                A[i,i-j] = A[i,i-j] + 1/6\n",
    "A"
   ]
  },
  {
   "cell_type": "code",
   "execution_count": 3,
   "metadata": {
    "collapsed": false
   },
   "outputs": [
    {
     "data": {
      "text/plain": [
       "\\left(\\begin{array}{rrrrrrrrrrrrrrrr}\n",
       "3 & 1 & 0 & 0 & 1 & 0 & 1 & 0 & 0 & 0 & 0 & 0 & 0 & 0 & 0 & 0 \\\\\n",
       "4 & 0 & 0 & 0 & 1 & 0 & 1 & 0 & 0 & 0 & 0 & 0 & 0 & 0 & 0 & 0 \\\\\n",
       "2 & 1 & 0 & 0 & 1 & 0 & 1 & 0 & 1 & 0 & 0 & 0 & 0 & 0 & 0 & 0 \\\\\n",
       "1 & 1 & 0 & 0 & 1 & 0 & 1 & 0 & 1 & 1 & 0 & 0 & 0 & 0 & 0 & 0 \\\\\n",
       "0 & 1 & 0 & 1 & 0 & 0 & 1 & 0 & 1 & 1 & 1 & 0 & 0 & 0 & 0 & 0 \\\\\n",
       "1 & 0 & 0 & 1 & 0 & 0 & 1 & 0 & 1 & 1 & 1 & 0 & 0 & 0 & 0 & 0 \\\\\n",
       "0 & 1 & 0 & 0 & 0 & 1 & 0 & 0 & 1 & 1 & 1 & 0 & 1 & 0 & 0 & 0 \\\\\n",
       "0 & 1 & 0 & 1 & 0 & 0 & 0 & 0 & 1 & 1 & 1 & 0 & 1 & 0 & 0 & 0 \\\\\n",
       "0 & 0 & 0 & 1 & 0 & 1 & 0 & 0 & 0 & 1 & 1 & 0 & 1 & 0 & 1 & 0 \\\\\n",
       "0 & 0 & 0 & 0 & 0 & 1 & 0 & 1 & 0 & 0 & 1 & 0 & 1 & 0 & 1 & 1 \\\\\n",
       "0 & 0 & 0 & 0 & 0 & 0 & 0 & 1 & 0 & 1 & 0 & 0 & 1 & 0 & 1 & 2 \\\\\n",
       "0 & 0 & 0 & 0 & 0 & 0 & 0 & 0 & 0 & 1 & 0 & 0 & 1 & 0 & 1 & 3 \\\\\n",
       "0 & 0 & 0 & 0 & 0 & 0 & 0 & 0 & 0 & 0 & 0 & 1 & 0 & 0 & 1 & 4 \\\\\n",
       "0 & 0 & 0 & 0 & 0 & 0 & 0 & 0 & 0 & 0 & 0 & 0 & 0 & 0 & 1 & 5 \\\\\n",
       "0 & 0 & 0 & 0 & 0 & 0 & 0 & 0 & 0 & 0 & 0 & 0 & 0 & 0 & 0 & 6 \\\\\n",
       "0 & 0 & 0 & 0 & 0 & 0 & 0 & 0 & 0 & 0 & 0 & 0 & 0 & 0 & 0 & 6\n",
       "\\end{array}\\right)"
      ]
     },
     "execution_count": 3,
     "metadata": {
     },
     "output_type": "execute_result"
    }
   ],
   "source": [
    "latex(6*A)"
   ]
  },
  {
   "cell_type": "code",
   "execution_count": 4,
   "metadata": {
    "collapsed": false
   },
   "outputs": [
    {
     "data": {
      "text/plain": [
       "[1/2 1/6   0   0 1/6   0 1/6   0   0   0   0   0   0   0   0]\n",
       "[2/3   0   0   0 1/6   0 1/6   0   0   0   0   0   0   0   0]\n",
       "[1/3 1/6   0   0 1/6   0 1/6   0 1/6   0   0   0   0   0   0]\n",
       "[1/6 1/6   0   0 1/6   0 1/6   0 1/6 1/6   0   0   0   0   0]\n",
       "[  0 1/6   0 1/6   0   0 1/6   0 1/6 1/6 1/6   0   0   0   0]\n",
       "[1/6   0   0 1/6   0   0 1/6   0 1/6 1/6 1/6   0   0   0   0]\n",
       "[  0 1/6   0   0   0 1/6   0   0 1/6 1/6 1/6   0 1/6   0   0]\n",
       "[  0 1/6   0 1/6   0   0   0   0 1/6 1/6 1/6   0 1/6   0   0]\n",
       "[  0   0   0 1/6   0 1/6   0   0   0 1/6 1/6   0 1/6   0 1/6]\n",
       "[  0   0   0   0   0 1/6   0 1/6   0   0 1/6   0 1/6   0 1/6]\n",
       "[  0   0   0   0   0   0   0 1/6   0 1/6   0   0 1/6   0 1/6]\n",
       "[  0   0   0   0   0   0   0   0   0 1/6   0   0 1/6   0 1/6]\n",
       "[  0   0   0   0   0   0   0   0   0   0   0 1/6   0   0 1/6]\n",
       "[  0   0   0   0   0   0   0   0   0   0   0   0   0   0 1/6]\n",
       "[  0   0   0   0   0   0   0   0   0   0   0   0   0   0   0]"
      ]
     },
     "execution_count": 4,
     "metadata": {
     },
     "output_type": "execute_result"
    }
   ],
   "source": [
    "Q = A[:15,:15]\n",
    "Q"
   ]
  },
  {
   "cell_type": "code",
   "execution_count": 5,
   "metadata": {
    "collapsed": false
   },
   "outputs": [
    {
     "data": {
      "text/plain": [
       "[37736035/10834313     544807/570227                 0    451186/1547759   1220135/1547759    519799/1547759   1510124/1547759    300264/1547759    666918/1547759    941752/1547759    859832/1547759    122254/1547759    733524/1547759                 0   1662140/4643277]\n",
       "[28449481/10834313    1033573/570227                 0    451186/1547759   1220135/1547759    519799/1547759   1510124/1547759    300264/1547759    666918/1547759    941752/1547759    859832/1547759    122254/1547759    733524/1547759                 0   1662140/4643277]\n",
       "[86320429/43337252   5723993/6842724                 1   1369456/4643277   4254553/6191036   2071053/6191036   7963231/9286554    290316/1547759   1734389/3095518   5473079/9286554   4978297/9286554    362281/4643277    724562/1547759                 0 20726477/55719324]\n",
       "[31929847/21668626    806469/1140454                 0   1964140/1547759   1779779/3095518    999991/3095518   1121537/1547759    310692/1547759    797709/1547759   1080727/1547759    783425/1547759    116974/1547759    701844/1547759                 0   3480679/9286554]\n",
       "[  1147149/1140454    669673/1140454                 0       31108/81461     216549/162922      46749/162922       48755/81461       16926/81461       38073/81461       53419/81461       48137/81461        5866/81461       35196/81461                 0     180691/488766]\n",
       "[    187153/162922      72393/162922                 0       31108/81461      53627/162922     209671/162922       48755/81461       16926/81461       38073/81461       53419/81461       48137/81461        5866/81461       35196/81461                 0     180691/488766]\n",
       "[17709661/21668626    532023/1140454                 0    311320/1547759    766109/3095518   1190965/3095518   2093903/1547759    278934/1547759    610449/1547759    868543/1547759    805061/1547759    133054/1547759    798324/1547759                 0   3215431/9286554]\n",
       "[ 9441372/10834313     290988/570227                 0    540168/1547759    446460/1547759    346836/1547759    578676/1547759   1824876/1547759    622836/1547759    879504/1547759    783198/1547759    133974/1547759    803844/1547759                 0    537226/1547759]\n",
       "[11612693/21668626    275923/1140454                 0    482982/1547759    562309/3095518   1015169/3095518    412611/1547759    240576/1547759   1868577/1547759    764319/1547759    679137/1547759    113292/1547759    679752/1547759                 0   1368359/3095518]\n",
       "[  1155695/3095518      29205/162922                 0    210560/1547759    355285/3095518    826385/3095518    276115/1547759    422520/1547759    250005/1547759   1953035/1547759    582085/1547759     99536/1547759    597216/1547759                 0   3481877/9286554]\n",
       "[ 2266979/10834313      66021/570227                 0    126124/1547759    104863/1547759    128639/1547759    143780/1547759    376578/1547759    146664/1547759    481390/1547759   1778078/1547759     83614/1547759    501684/1547759                 0   1495715/4643277]\n",
       "[  693417/10834313      17523/570227                 0     36096/1547759     30453/1547759     70833/1547759     47334/1547759     72432/1547759     42858/1547759    334806/1547759     99786/1547759   1609044/1547759    367710/1547759                 0    409034/1547759]\n",
       "[  231139/21668626      5841/1140454                 0      6016/1547759     10151/3095518     23611/3095518      7889/1547759     12072/1547759      7143/1547759     55801/1547759     16631/1547759    268174/1547759   1609044/1547759                 0   1956793/9286554]\n",
       "[                0                 0                 0                 0                 0                 0                 0                 0                 0                 0                 0                 0                 0                 1               1/6]\n",
       "[                0                 0                 0                 0                 0                 0                 0                 0                 0                 0                 0                 0                 0                 0                 1]"
      ]
     },
     "execution_count": 5,
     "metadata": {
     },
     "output_type": "execute_result"
    }
   ],
   "source": [
    "N=(matrix.identity(15)-Q).inverse()\n",
    "N"
   ]
  },
  {
   "cell_type": "code",
   "execution_count": 5,
   "metadata": {
    "collapsed": false
   },
   "outputs": [
    {
     "data": {
      "text/plain": [
       "\\left(\\begin{array}{rrrrrrrrrrrrrrr}\n",
       "\\frac{37736035}{10834313} & \\frac{544807}{570227} & 0 & \\frac{451186}{1547759} & \\frac{1220135}{1547759} & \\frac{519799}{1547759} & \\frac{1510124}{1547759} & \\frac{300264}{1547759} & \\frac{666918}{1547759} & \\frac{941752}{1547759} & \\frac{859832}{1547759} & \\frac{122254}{1547759} & \\frac{733524}{1547759} & 0 & \\frac{1662140}{4643277} \\\\\n",
       "\\frac{28449481}{10834313} & \\frac{1033573}{570227} & 0 & \\frac{451186}{1547759} & \\frac{1220135}{1547759} & \\frac{519799}{1547759} & \\frac{1510124}{1547759} & \\frac{300264}{1547759} & \\frac{666918}{1547759} & \\frac{941752}{1547759} & \\frac{859832}{1547759} & \\frac{122254}{1547759} & \\frac{733524}{1547759} & 0 & \\frac{1662140}{4643277} \\\\\n",
       "\\frac{86320429}{43337252} & \\frac{5723993}{6842724} & 1 & \\frac{1369456}{4643277} & \\frac{4254553}{6191036} & \\frac{2071053}{6191036} & \\frac{7963231}{9286554} & \\frac{290316}{1547759} & \\frac{1734389}{3095518} & \\frac{5473079}{9286554} & \\frac{4978297}{9286554} & \\frac{362281}{4643277} & \\frac{724562}{1547759} & 0 & \\frac{20726477}{55719324} \\\\\n",
       "\\frac{31929847}{21668626} & \\frac{806469}{1140454} & 0 & \\frac{1964140}{1547759} & \\frac{1779779}{3095518} & \\frac{999991}{3095518} & \\frac{1121537}{1547759} & \\frac{310692}{1547759} & \\frac{797709}{1547759} & \\frac{1080727}{1547759} & \\frac{783425}{1547759} & \\frac{116974}{1547759} & \\frac{701844}{1547759} & 0 & \\frac{3480679}{9286554} \\\\\n",
       "\\frac{1147149}{1140454} & \\frac{669673}{1140454} & 0 & \\frac{31108}{81461} & \\frac{216549}{162922} & \\frac{46749}{162922} & \\frac{48755}{81461} & \\frac{16926}{81461} & \\frac{38073}{81461} & \\frac{53419}{81461} & \\frac{48137}{81461} & \\frac{5866}{81461} & \\frac{35196}{81461} & 0 & \\frac{180691}{488766} \\\\\n",
       "\\frac{187153}{162922} & \\frac{72393}{162922} & 0 & \\frac{31108}{81461} & \\frac{53627}{162922} & \\frac{209671}{162922} & \\frac{48755}{81461} & \\frac{16926}{81461} & \\frac{38073}{81461} & \\frac{53419}{81461} & \\frac{48137}{81461} & \\frac{5866}{81461} & \\frac{35196}{81461} & 0 & \\frac{180691}{488766} \\\\\n",
       "\\frac{17709661}{21668626} & \\frac{532023}{1140454} & 0 & \\frac{311320}{1547759} & \\frac{766109}{3095518} & \\frac{1190965}{3095518} & \\frac{2093903}{1547759} & \\frac{278934}{1547759} & \\frac{610449}{1547759} & \\frac{868543}{1547759} & \\frac{805061}{1547759} & \\frac{133054}{1547759} & \\frac{798324}{1547759} & 0 & \\frac{3215431}{9286554} \\\\\n",
       "\\frac{9441372}{10834313} & \\frac{290988}{570227} & 0 & \\frac{540168}{1547759} & \\frac{446460}{1547759} & \\frac{346836}{1547759} & \\frac{578676}{1547759} & \\frac{1824876}{1547759} & \\frac{622836}{1547759} & \\frac{879504}{1547759} & \\frac{783198}{1547759} & \\frac{133974}{1547759} & \\frac{803844}{1547759} & 0 & \\frac{537226}{1547759} \\\\\n",
       "\\frac{11612693}{21668626} & \\frac{275923}{1140454} & 0 & \\frac{482982}{1547759} & \\frac{562309}{3095518} & \\frac{1015169}{3095518} & \\frac{412611}{1547759} & \\frac{240576}{1547759} & \\frac{1868577}{1547759} & \\frac{764319}{1547759} & \\frac{679137}{1547759} & \\frac{113292}{1547759} & \\frac{679752}{1547759} & 0 & \\frac{1368359}{3095518} \\\\\n",
       "\\frac{1155695}{3095518} & \\frac{29205}{162922} & 0 & \\frac{210560}{1547759} & \\frac{355285}{3095518} & \\frac{826385}{3095518} & \\frac{276115}{1547759} & \\frac{422520}{1547759} & \\frac{250005}{1547759} & \\frac{1953035}{1547759} & \\frac{582085}{1547759} & \\frac{99536}{1547759} & \\frac{597216}{1547759} & 0 & \\frac{3481877}{9286554} \\\\\n",
       "\\frac{2266979}{10834313} & \\frac{66021}{570227} & 0 & \\frac{126124}{1547759} & \\frac{104863}{1547759} & \\frac{128639}{1547759} & \\frac{143780}{1547759} & \\frac{376578}{1547759} & \\frac{146664}{1547759} & \\frac{481390}{1547759} & \\frac{1778078}{1547759} & \\frac{83614}{1547759} & \\frac{501684}{1547759} & 0 & \\frac{1495715}{4643277} \\\\\n",
       "\\frac{693417}{10834313} & \\frac{17523}{570227} & 0 & \\frac{36096}{1547759} & \\frac{30453}{1547759} & \\frac{70833}{1547759} & \\frac{47334}{1547759} & \\frac{72432}{1547759} & \\frac{42858}{1547759} & \\frac{334806}{1547759} & \\frac{99786}{1547759} & \\frac{1609044}{1547759} & \\frac{367710}{1547759} & 0 & \\frac{409034}{1547759} \\\\\n",
       "\\frac{231139}{21668626} & \\frac{5841}{1140454} & 0 & \\frac{6016}{1547759} & \\frac{10151}{3095518} & \\frac{23611}{3095518} & \\frac{7889}{1547759} & \\frac{12072}{1547759} & \\frac{7143}{1547759} & \\frac{55801}{1547759} & \\frac{16631}{1547759} & \\frac{268174}{1547759} & \\frac{1609044}{1547759} & 0 & \\frac{1956793}{9286554} \\\\\n",
       "0 & 0 & 0 & 0 & 0 & 0 & 0 & 0 & 0 & 0 & 0 & 0 & 0 & 1 & \\frac{1}{6} \\\\\n",
       "0 & 0 & 0 & 0 & 0 & 0 & 0 & 0 & 0 & 0 & 0 & 0 & 0 & 0 & 1\n",
       "\\end{array}\\right)"
      ]
     },
     "execution_count": 5,
     "metadata": {
     },
     "output_type": "execute_result"
    }
   ],
   "source": [
    "latex(N)"
   ]
  },
  {
   "cell_type": "code",
   "execution_count": 6,
   "metadata": {
    "collapsed": false
   },
   "outputs": [
    {
     "data": {
      "text/plain": [
       "44248376/4643277"
      ]
     },
     "execution_count": 6,
     "metadata": {
     },
     "output_type": "execute_result"
    }
   ],
   "source": [
    "sum = 0\n",
    "for i in range(15):\n",
    "    sum += N[0][i]\n",
    "sum"
   ]
  },
  {
   "cell_type": "code",
   "execution_count": 7,
   "metadata": {
    "collapsed": false
   },
   "outputs": [
    {
     "data": {
      "text/plain": [
       "9.52955768092233"
      ]
     },
     "execution_count": 7,
     "metadata": {
     },
     "output_type": "execute_result"
    }
   ],
   "source": [
    "sum = 0\n",
    "for i in range(15):\n",
    "    sum += N[0][i]\n",
    "sum*1."
   ]
  },
  {
   "cell_type": "code",
   "execution_count": 12,
   "metadata": {
    "collapsed": false
   },
   "outputs": [
    {
     "name": "stdout",
     "output_type": "stream",
     "text": [
      "95.2842000000000\n"
     ]
    },
    {
     "name": "stdout",
     "output_type": "stream",
     "text": [
      "95.0996000000000\n"
     ]
    },
    {
     "name": "stdout",
     "output_type": "stream",
     "text": [
      "95.4713000000000\n"
     ]
    },
    {
     "name": "stdout",
     "output_type": "stream",
     "text": [
      "95.5050000000000\n"
     ]
    },
    {
     "name": "stdout",
     "output_type": "stream",
     "text": [
      "95.3389000000000\n"
     ]
    },
    {
     "name": "stdout",
     "output_type": "stream",
     "text": [
      "95.2274000000000\n"
     ]
    },
    {
     "name": "stdout",
     "output_type": "stream",
     "text": [
      "95.3080000000000\n"
     ]
    },
    {
     "name": "stdout",
     "output_type": "stream",
     "text": [
      "95.1997000000000\n"
     ]
    },
    {
     "name": "stdout",
     "output_type": "stream",
     "text": [
      "95.1691000000000\n"
     ]
    },
    {
     "name": "stdout",
     "output_type": "stream",
     "text": [
      "95.5905000000000\n"
     ]
    }
   ],
   "source": [
    "import random\n",
    "for j in range(0,10):\n",
    "    total = 0\n",
    "    for i in range(0,100000):\n",
    "        sum = 0\n",
    "        step = 0\n",
    "        while sum < 15:\n",
    "            step = step + 1\n",
    "            a = random.sample(range(1,7), 1)\n",
    "            if sum + a[0] >=15:\n",
    "                break\n",
    "            elif sum + a[0] not in Primes():\n",
    "                sum = sum + a[0]\n",
    "            elif sum - a[0] <= 0:\n",
    "                sum = 0\n",
    "            else:\n",
    "                sum = sum - a[0]\n",
    "        total = total + step\n",
    "    print(total/10000*1.)"
   ]
  },
  {
   "cell_type": "code",
   "execution_count": 13,
   "metadata": {
    "collapsed": false
   },
   "outputs": [
    {
     "data": {
      "text/plain": [
       "[0.000000000000000,\n",
       " 0.000000000000000,\n",
       " 0.0462962962962963,\n",
       " 0.148148148148148,\n",
       " 0.260545267489712,\n",
       " 0.368419924554184,\n",
       " 0.465009859396433,\n",
       " 0.548792700236244,\n",
       " 0.620334747148555,\n",
       " 0.680923149497663,\n",
       " 0.732017447793182,\n",
       " 0.775007918384725,\n",
       " 0.811136656445807,\n",
       " 0.841479538098792,\n",
       " 0.866954505505081,\n",
       " 0.888338656613678,\n",
       " 0.906287173428050,\n",
       " 0.921351260630962,\n",
       " 0.933994116415223,\n",
       " 0.944604747266997,\n",
       " 0.953509745649391,\n",
       " 0.960983256691959,\n",
       " 0.967255379513996,\n",
       " 0.972519234480676,\n",
       " 0.976936901742375,\n",
       " 0.980644408427229,\n",
       " 0.983755915596161,\n",
       " 0.986367232785816,\n",
       " 0.988558767867415,\n",
       " 0.990398002833709]"
      ]
     },
     "execution_count": 13,
     "metadata": {
     },
     "output_type": "execute_result"
    }
   ],
   "source": [
    "list1 = []\n",
    "for i in range(1, 31):\n",
    "    list1.append((A^i)[0,15]*1.)\n",
    "list1"
   ]
  },
  {
   "cell_type": "code",
   "execution_count": 14,
   "metadata": {
    "collapsed": false
   },
   "outputs": [
    {
     "data": {
      "text/plain": [
       "[0,\n",
       " 0.000000000000000,\n",
       " 0.0462962962962963,\n",
       " 0.101851851851852,\n",
       " 0.112397119341564,\n",
       " 0.107874657064472,\n",
       " 0.0965899348422496,\n",
       " 0.0837828408398110,\n",
       " 0.0715420469123101,\n",
       " 0.0605884023491083,\n",
       " 0.0510942982955187,\n",
       " 0.0429904705915438,\n",
       " 0.0361287380610815,\n",
       " 0.0303428816529847,\n",
       " 0.0254749674062889,\n",
       " 0.0213841511085973,\n",
       " 0.0179485168143724,\n",
       " 0.0150640872029122,\n",
       " 0.0126428557842603,\n",
       " 0.0106106308517742,\n",
       " 0.00890499838239411,\n",
       " 0.00747351104256844,\n",
       " 0.00627212282203615,\n",
       " 0.00526385496668003,\n",
       " 0.00441766726169990,\n",
       " 0.00370750668485320,\n",
       " 0.00311150716893260,\n",
       " 0.00261131718965479,\n",
       " 0.00219153508159942,\n",
       " 0.00183923496629401]"
      ]
     },
     "execution_count": 14,
     "metadata": {
     },
     "output_type": "execute_result"
    }
   ],
   "source": [
    "list2 = [A[0,15] - 0]\n",
    "for i in range(2,31):\n",
    "    list2.append((A^i)[0,15]*1. - (A^(i-1))[0,15])\n",
    "list2"
   ]
  },
  {
   "cell_type": "code",
   "execution_count": 15,
   "metadata": {
    "collapsed": false
   },
   "outputs": [
    {
     "data": {
      "text/plain": [
       "0.0330132667611236"
      ]
     },
     "execution_count": 15,
     "metadata": {
     },
     "output_type": "execute_result"
    }
   ],
   "source": [
    "mean(list2)*1. "
   ]
  },
  {
   "cell_type": "code",
   "execution_count": 0,
   "metadata": {
    "collapsed": false
   },
   "outputs": [
   ],
   "source": [
   ]
  },
  {
   "cell_type": "code",
   "execution_count": 16,
   "metadata": {
    "collapsed": false
   },
   "outputs": [
    {
     "data": {
      "text/plain": [
       "Text(0.5, 1.0, 'The cumulative probability of ending the game after each roll')"
      ]
     },
     "execution_count": 16,
     "metadata": {
     },
     "output_type": "execute_result"
    },
    {
     "data": {
      "image/png": "[encoded data removed]",
      "text/plain": [
       "<Figure size 432x288 with 1 Axes>"
      ]
     },
     "execution_count": 16,
     "metadata": {
      "needs_background": "light"
     },
     "output_type": "execute_result"
    }
   ],
   "source": [
    "import matplotlib.pyplot as plt\n",
    "x = [1,2,3,4,5,6,7,8,9,10,11,12,13,14,15,16,17,18,19,20,21,22,23,24,25,26,27,28,29,30]\n",
    "plt.plot(x,list1)\n",
    "plt.xlabel('number of roll')\n",
    "plt.ylabel('probability of ending the game after x of rolls')\n",
    "plt.title('The cumulative probability of ending the game after each roll')"
   ]
  },
  {
   "cell_type": "code",
   "execution_count": 17,
   "metadata": {
    "collapsed": false
   },
   "outputs": [
    {
     "data": {
      "text/plain": [
       "Text(0.5, 1.0, 'The probability of ending the game at each roll')"
      ]
     },
     "execution_count": 17,
     "metadata": {
     },
     "output_type": "execute_result"
    },
    {
     "data": {
      "image/png": "[encoded data removed]",
      "text/plain": [
       "<Figure size 432x288 with 1 Axes>"
      ]
     },
     "execution_count": 17,
     "metadata": {
      "needs_background": "light"
     },
     "output_type": "execute_result"
    }
   ],
   "source": [
    "import matplotlib.pyplot as plt\n",
    "x = [1,2,3,4,5,6,7,8,9,10,11,12,13,14,15,16,17,18,19,20,21,22,23,24,25,26,27,28,29,30]\n",
    "plt.plot(x,list2)\n",
    "plt.xlabel('number of roll')\n",
    "plt.ylabel('probability of ending the game at x of rolls')\n",
    "plt.title('The probability of ending the game at each roll')"
   ]
  },
  {
   "cell_type": "code",
   "execution_count": 18,
   "metadata": {
    "collapsed": false
   },
   "outputs": [
    {
     "name": "stdout",
     "output_type": "stream",
     "text": [
      "1\n",
      "2\n",
      "3\n",
      "4\n",
      "5\n",
      "6\n",
      "7\n",
      "8\n",
      "9\n",
      "10\n",
      "11\n",
      "12\n",
      "13\n",
      "14\n",
      "15\n",
      "16\n",
      "17\n",
      "18\n",
      "19\n",
      "20\n",
      "21\n",
      "22\n",
      "23\n",
      "24\n",
      "25\n",
      "26\n",
      "27\n",
      "28\n",
      "29\n",
      "30\n",
      "31\n",
      "32\n",
      "33\n",
      "34\n",
      "35\n",
      "36\n",
      "37\n",
      "38\n",
      "39\n",
      "40\n",
      "41\n",
      "42\n",
      "43\n",
      "44\n",
      "45\n",
      "46\n",
      "47\n",
      "48\n",
      "49\n"
     ]
    },
    {
     "name": "stdout",
     "output_type": "stream",
     "text": [
      "50\n",
      "51\n",
      "52\n",
      "53\n",
      "54\n",
      "55\n",
      "56\n",
      "57\n",
      "58\n",
      "59\n",
      "60\n"
     ]
    },
    {
     "name": "stdout",
     "output_type": "stream",
     "text": [
      "61\n",
      "62\n",
      "63\n",
      "64\n",
      "65\n",
      "66\n",
      "67\n",
      "68\n",
      "69\n"
     ]
    },
    {
     "name": "stdout",
     "output_type": "stream",
     "text": [
      "70\n",
      "71\n",
      "72\n",
      "73\n",
      "74\n",
      "75\n",
      "76\n"
     ]
    },
    {
     "name": "stdout",
     "output_type": "stream",
     "text": [
      "77\n",
      "78\n",
      "79\n",
      "80\n",
      "81\n"
     ]
    },
    {
     "name": "stdout",
     "output_type": "stream",
     "text": [
      "82\n",
      "83\n",
      "84\n",
      "85\n",
      "86\n",
      "87\n"
     ]
    },
    {
     "name": "stdout",
     "output_type": "stream",
     "text": [
      "88\n",
      "89\n",
      "90\n",
      "91\n"
     ]
    },
    {
     "name": "stdout",
     "output_type": "stream",
     "text": [
      "92\n",
      "93\n",
      "94\n"
     ]
    },
    {
     "name": "stdout",
     "output_type": "stream",
     "text": [
      "95\n",
      "96\n",
      "97\n"
     ]
    },
    {
     "name": "stdout",
     "output_type": "stream",
     "text": [
      "98\n",
      "99\n"
     ]
    },
    {
     "data": {
      "text/plain": [
       "[0.000000000000000,\n",
       " 1.00000000000000,\n",
       " 1.16666666666667,\n",
       " 1.44827586206897,\n",
       " 1.90909090909091,\n",
       " 2.22727272727273,\n",
       " 3.39884393063584,\n",
       " 3.96531791907514,\n",
       " 4.94117647058824,\n",
       " 5.19607843137255,\n",
       " 5.49346405228758,\n",
       " 5.82080610021787,\n",
       " 7.24099895402011,\n",
       " 7.59910155225721,\n",
       " 9.17159066753933,\n",
       " 9.52955768092233,\n",
       " 9.87537041906682,\n",
       " 10.1774083380241,\n",
       " 11.5002223231536,\n",
       " 11.8285396966452,\n",
       " 13.6956036254258,\n",
       " 14.0743686163473,\n",
       " 14.4225715673788,\n",
       " 14.7179251690067,\n",
       " 16.0765853678494,\n",
       " 16.4025883436224,\n",
       " 16.6948047831026,\n",
       " 17.0219075506726,\n",
       " 17.3269345911207,\n",
       " 17.5999010007029,\n",
       " 18.5198043825219,\n",
       " 18.8548401981713,\n",
       " 20.6971637955111,\n",
       " 21.0662347173221,\n",
       " 21.4086427061345,\n",
       " 21.7039013364545,\n",
       " 21.9650354408094,\n",
       " 22.2563569652905,\n",
       " 23.2740859751395,\n",
       " 23.6173545080166,\n",
       " 23.9460370182800,\n",
       " 24.2497402711049,\n",
       " 25.5803534354380,\n",
       " 25.8962752088223,\n",
       " 27.4997824056074,\n",
       " 27.8797426704940,\n",
       " 28.2301308378157,\n",
       " 28.5276901450442,\n",
       " 29.7643679239026,\n",
       " 30.0883907517559,\n",
       " 30.3808875590449,\n",
       " 30.7082715516432,\n",
       " 31.0136023953628,\n",
       " 31.2866480176020,\n",
       " 32.1958691758153,\n",
       " 32.5306683475425,\n",
       " 32.8581175324801,\n",
       " 33.1686788120992,\n",
       " 33.4645238919730,\n",
       " 33.7356211559543,\n",
       " 34.6262913599575,\n",
       " 34.9651215455614,\n",
       " 36.7414949353852,\n",
       " 37.1078442559689,\n",
       " 37.4496146896857,\n",
       " 37.7453167317896,\n",
       " 38.0069891860006,\n",
       " 38.2987924557025,\n",
       " 39.3048079646185,\n",
       " 39.6476401539074,\n",
       " 39.9763040754777,\n",
       " 40.2801176915791,\n",
       " 41.6064307455308,\n",
       " 41.9223799139398,\n",
       " 43.5224025467086,\n",
       " 43.9023129758613,\n",
       " 44.2527153562040,\n",
       " 44.5502911675627,\n",
       " 44.8062244068674,\n",
       " 45.0927248333188,\n",
       " 46.1335495150758,\n",
       " 46.4794214707278,\n",
       " 46.8090643382136,\n",
       " 47.1124190603886,\n",
       " 48.4405474477535,\n",
       " 48.7560123323394,\n",
       " 49.0473514866787,\n",
       " 49.3734231347056,\n",
       " 49.6807924121209,\n",
       " 49.9564457102253,\n",
       " 50.8363796586114,\n",
       " 51.1696957558486,\n",
       " 51.4969846605564,\n",
       " 51.8076308727770,\n",
       " 52.1038900881250,\n",
       " 52.3751601157550,\n",
       " 52.6316235252789,\n",
       " 52.9308308363902,\n",
       " 54.0284319618150]"
      ]
     },
     "execution_count": 18,
     "metadata": {
     },
     "output_type": "execute_result"
    }
   ],
   "source": [
    "list = []\n",
    "for k in range(1,100):\n",
    "    A=zero_matrix(QQ,k);\n",
    "    for i in range(0,k):\n",
    "        for j in range(1,7):\n",
    "            if i+j >= k-1:\n",
    "                A[i,k-1] = A[i,k-1] + 1/6\n",
    "            elif i+j not in Primes():\n",
    "                A[i,i+j] = A[i,i+j] + 1/6\n",
    "            elif i-j <= 0:\n",
    "                A[i,0] = A[i,0] + 1/6\n",
    "            else:\n",
    "                A[i,i-j] = A[i,i-j] + 1/6\n",
    "    Q = A[:k-1,:k-1]\n",
    "    N=(matrix.identity(k-1)-Q).inverse()\n",
    "    sum = 0\n",
    "    for i in range(k-1):\n",
    "        sum += N[0][i]\n",
    "    print(k)\n",
    "    list.append(sum*1.)\n",
    "list"
   ]
  },
  {
   "cell_type": "code",
   "execution_count": 22,
   "metadata": {
    "collapsed": false
   },
   "outputs": [
    {
     "data": {
      "text/plain": [
       "Text(0.5, 1.0, 'expected value of the number of rolls to end the game for different M')"
      ]
     },
     "execution_count": 22,
     "metadata": {
     },
     "output_type": "execute_result"
    },
    {
     "data": {
      "image/png": "[encoded data removed]",
      "text/plain": [
       "<Figure size 432x288 with 1 Axes>"
      ]
     },
     "execution_count": 22,
     "metadata": {
      "needs_background": "light"
     },
     "output_type": "execute_result"
    }
   ],
   "source": [
    "import matplotlib.pyplot as plt\n",
    "import numpy as np\n",
    "x = []\n",
    "for i in range(1,100):\n",
    "    x.append(i)\n",
    "x = np.array(x)\n",
    "plt.plot(x,list)\n",
    "plt.xlabel('value of M')\n",
    "plt.ylabel('expected value of rolls to end the game')\n",
    "plt.title('expected value of the number of rolls to end the game for different M')"
   ]
  },
  {
   "cell_type": "code",
   "execution_count": 23,
   "metadata": {
    "collapsed": false
   },
   "outputs": [
    {
     "data": {
      "text/plain": [
       "Text(0.5, 1.0, 'expected value of the number of rolls to end the game for different M')"
      ]
     },
     "execution_count": 23,
     "metadata": {
     },
     "output_type": "execute_result"
    },
    {
     "data": {
      "image/png": "[encoded data removed]",
      "text/plain": [
       "<Figure size 432x288 with 1 Axes>"
      ]
     },
     "execution_count": 23,
     "metadata": {
      "needs_background": "light"
     },
     "output_type": "execute_result"
    }
   ],
   "source": [
    "import matplotlib.pyplot as plt\n",
    "x = []\n",
    "for i in range(1,100):\n",
    "    x.append(i)\n",
    "x = np.array(x)\n",
    "plt.plot(x,list/x)\n",
    "plt.xlabel('value of M')\n",
    "plt.ylabel('expected value of rolls to end the game / M')\n",
    "plt.title('expected value of the number of rolls to end the game for different M')"
   ]
  },
  {
   "cell_type": "code",
   "execution_count": 1,
   "metadata": {
    "collapsed": false
   },
   "outputs": [
    {
     "name": "stdout",
     "output_type": "stream",
     "text": [
      "7   2.52162637174211\n",
      "8   2.77523076703246\n",
      "9   3.04332478376010\n",
      "10   3.32369372920160\n",
      "11   3.61298219024137\n",
      "12   3.90637531248324\n",
      "13   4.19720552574348\n",
      "14   4.47646871807704\n",
      "15   4.76000837658447\n",
      "16   5.04612230872187\n",
      "17   5.33319373864191\n",
      "18   5.61989566337533\n",
      "19   5.90548238852402\n",
      "20   6.19019519898744\n",
      "21   6.47581627913917\n",
      "22   6.76178426289829\n",
      "23   7.04772792192769\n",
      "24   7.33348361914199\n",
      "25   7.61908161176977\n",
      "26   7.90468148231073\n",
      "27   8.19042919619794\n",
      "28   8.47619801570774\n",
      "29   8.76193364117598\n",
      "30   9.04763459438402\n",
      "31   9.33332642359103\n",
      "32   9.61903389222790\n",
      "33   9.90475929388077\n",
      "34   10.1904809768279\n",
      "35   10.4761948036813\n",
      "36   10.7619049974321\n",
      "37   11.0476167312735\n",
      "38   11.3333317825539\n",
      "39   11.6190480976083\n",
      "40   11.9047628982295\n",
      "41   12.1904765517964\n",
      "42   12.4761901764823\n",
      "43   12.7619043729906\n",
      "44   13.0476189799435\n",
      "45   13.3333335128418\n",
      "46   13.6190477487140\n",
      "47   13.9047618904614\n"
     ]
    },
    {
     "name": "stdout",
     "output_type": "stream",
     "text": [
      "48   14.1904761135723\n",
      "49   14.4761904364206\n"
     ]
    },
    {
     "data": {
      "image/png": "[encoded data removed]",
      "text/plain": [
       "Graphics object consisting of 1 graphics primitive"
      ]
     },
     "execution_count": 1,
     "metadata": {
     },
     "output_type": "execute_result"
    }
   ],
   "source": [
    "R=[]\n",
    "for n in range(7,50):\n",
    "    A=zero_matrix(QQ,n+1);\n",
    "    for i in range(6):\n",
    "        A[0,i+1]=1/6\n",
    "    A[n,n]=1;\n",
    "    for i in range(1,n):\n",
    "        for j in range(6):\n",
    "            roll=j+1\n",
    "            put = min(n,i+roll)\n",
    "            A[i,put]+= 1/6\n",
    "    Q = A[:n,:n]\n",
    "    N=(matrix.identity(n)-Q).inverse()\n",
    "    s=sum(N[0][i]for i in range(n))\n",
    "    print(n,\" \",s*1.)\n",
    "    R.append(s*1.)\n",
    "list_plot(R)"
   ]
  },
  {
   "cell_type": "code",
   "execution_count": 0,
   "metadata": {
    "collapsed": false
   },
   "outputs": [
   ],
   "source": [
    "jupyter nbconvert /path/jupyterscript.ipynb --to latex"
   ]
  },
  {
   "cell_type": "code",
   "execution_count": 0,
   "metadata": {
    "collapsed": false
   },
   "outputs": [
   ],
   "source": [
   ]
  }
 ],
 "metadata": {
  "kernelspec": {
   "display_name": "SageMath 9.4",
   "language": "sagemath",
   "metadata": {
    "cocalc": {
     "description": "Open-source mathematical software system",
     "priority": 10,
     "url": "https://www.sagemath.org/"
    }
   },
   "name": "sage-9.4",
   "resource_dir": "/ext/jupyter/kernels/sage-9.4"
  },
  "language_info": {
   "codemirror_mode": {
    "name": "ipython",
    "version": 3
   },
   "file_extension": ".py",
   "mimetype": "text/x-python",
   "name": "python",
   "nbconvert_exporter": "python",
   "pygments_lexer": "ipython3",
   "version": "3.9.5"
  }
 },
 "nbformat": 4,
 "nbformat_minor": 4
}