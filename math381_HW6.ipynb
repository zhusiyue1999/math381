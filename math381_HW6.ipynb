{
 "cells": [
  {
   "cell_type": "code",
   "execution_count": 2,
   "metadata": {
    "collapsed": false
   },
   "outputs": [
    {
     "name": "stdout",
     "output_type": "stream",
     "text": [
      "2\n",
      "4\n",
      "5\n",
      "3\n",
      "1\n",
      "4\n",
      "6\n",
      "4\n",
      "2\n"
     ]
    }
   ],
   "source": [
    "import matplotlib.pyplot as plt\n",
    "import random\n",
    "import math\n",
    "for i in range(1,10):\n",
    "    x = random.randint(1,6)\n",
    "    print(x)"
   ]
  },
  {
   "cell_type": "code",
   "execution_count": 37,
   "metadata": {
    "collapsed": false
   },
   "outputs": [
    {
     "name": "stdout",
     "output_type": "stream",
     "text": [
      "51613\n"
     ]
    }
   ],
   "source": [
    "# A_A\n",
    "x = []\n",
    "win_1 = 0\n",
    "for i in range(0,100000):\n",
    "    score_1 = 0\n",
    "    score_2 = 0\n",
    "    deck = [1,2,3,4,5,6,7,8,9,10,11,12,12,\n",
    "       1,2,3,4,5,6,7,8,9,10,11,12,12]\n",
    "    while len(deck) > 0:\n",
    "        item = random.choice(deck)\n",
    "        deck.remove(item)\n",
    "        roll = random.randint(1,6) + random.randint(1,6)\n",
    "        if roll >= item:\n",
    "            score_1 += item\n",
    "\n",
    "        item = random.choice(deck)\n",
    "        deck.remove(item)\n",
    "        roll = random.randint(1,6) + random.randint(1,6)\n",
    "        if roll >= item:\n",
    "            score_2 += item\n",
    "    if i == 0:\n",
    "        if score_1 >= score_2:\n",
    "            x.append(1)\n",
    "        else:\n",
    "            x.append(0)\n",
    "    elif score_1 >= score_2:\n",
    "        win_1 += 1\n",
    "print(win_1)"
   ]
  },
  {
   "cell_type": "code",
   "execution_count": 6,
   "metadata": {
    "collapsed": false
   },
   "outputs": [
    {
     "name": "stdout",
     "output_type": "stream",
     "text": [
      "53188\n"
     ]
    }
   ],
   "source": [
    "# A_B\n",
    "x = []\n",
    "win_1 = 0\n",
    "for i in range(0,100000):\n",
    "    score_1 = 0\n",
    "    score_2 = 0\n",
    "    deck = [1,2,3,4,5,6,7,8,9,10,11,12,12,\n",
    "       1,2,3,4,5,6,7,8,9,10,11,12,12]\n",
    "    while len(deck) > 0:\n",
    "        item = random.choice(deck)\n",
    "        deck.remove(item)\n",
    "        roll = random.randint(1,6) + random.randint(1,6)\n",
    "        if roll >= item:\n",
    "            score_1 += item\n",
    "\n",
    "        item = random.choice(deck)\n",
    "        deck.remove(item)\n",
    "        roll = random.randint(1,6) + random.randint(1,6)\n",
    "        if roll >= item:\n",
    "            score_2 += item\n",
    "        elif score_2 < item:\n",
    "            roll = random.randint(1,6) + random.randint(1,6)\n",
    "            if roll >= item:\n",
    "                score_2 += item\n",
    "            else:\n",
    "                score_2 -= item\n",
    "                if score_2 < 0:\n",
    "                    score_2 = 0\n",
    "    if i == 0:\n",
    "        if score_1 >= score_2:\n",
    "            x.append(1)\n",
    "        else:\n",
    "            x.append(0)\n",
    "    elif score_1 >= score_2:\n",
    "        win_1 += 1\n",
    "print(win_1)"
   ]
  },
  {
   "cell_type": "code",
   "execution_count": 20,
   "metadata": {
    "collapsed": false
   },
   "outputs": [
    {
     "name": "stdout",
     "output_type": "stream",
     "text": [
      "51331\n"
     ]
    }
   ],
   "source": [
    "# A_C_60:\n",
    "M = 60\n",
    "x = []\n",
    "win_1 = 0\n",
    "for i in range(0,100000):\n",
    "    score_1 = 0\n",
    "    score_2 = 0\n",
    "    deck = [1,2,3,4,5,6,7,8,9,10,11,12,12,\n",
    "       1,2,3,4,5,6,7,8,9,10,11,12,12]\n",
    "    while len(deck) > 0:\n",
    "        item = random.choice(deck)\n",
    "        deck.remove(item)\n",
    "        roll = random.randint(1,6) + random.randint(1,6)\n",
    "        if roll >= item:\n",
    "            score_1 += item\n",
    "        elif score_1 >= M:\n",
    "            roll = random.randint(1,6) + random.randint(1,6)\n",
    "            if roll >= item:\n",
    "                score_1 += item\n",
    "            else:\n",
    "                score_1 -= item\n",
    "                if score_1 < 0:\n",
    "                    score_1 = 0\n",
    "        item = random.choice(deck)\n",
    "        deck.remove(item)\n",
    "        roll = random.randint(1,6) + random.randint(1,6)\n",
    "        if roll >= item:\n",
    "            score_2 += item\n",
    "    if i == 0:\n",
    "        if score_1 >= score_2:\n",
    "            x.append(1)\n",
    "        else:\n",
    "            x.append(0)\n",
    "    elif score_1 >= score_2:\n",
    "        win_1 += 1\n",
    "print(win_1)"
   ]
  },
  {
   "cell_type": "code",
   "execution_count": 25,
   "metadata": {
    "collapsed": false
   },
   "outputs": [
    {
     "name": "stdout",
     "output_type": "stream",
     "text": [
      "55167\n"
     ]
    }
   ],
   "source": [
    "# A_D_6:\n",
    "M = 6\n",
    "x = []\n",
    "win_1 = 0\n",
    "for i in range(0,100000):\n",
    "    score_1 = 0\n",
    "    score_2 = 0\n",
    "    deck = [1,2,3,4,5,6,7,8,9,10,11,12,12,\n",
    "       1,2,3,4,5,6,7,8,9,10,11,12,12]\n",
    "    while len(deck) > 0:\n",
    "        item = random.choice(deck)\n",
    "        deck.remove(item)\n",
    "        roll = random.randint(1,6) + random.randint(1,6)\n",
    "        if roll >= item:\n",
    "            score_1 += item\n",
    "        elif score_1 <= M:\n",
    "            roll = random.randint(1,6) + random.randint(1,6)\n",
    "            if roll >= item:\n",
    "                score_1 += item\n",
    "            else:\n",
    "                score_1 -= item\n",
    "                if score_1 < 0:\n",
    "                    score_1 = 0\n",
    "        item = random.choice(deck)\n",
    "        deck.remove(item)\n",
    "        roll = random.randint(1,6) + random.randint(1,6)\n",
    "        if roll >= item:\n",
    "            score_2 += item\n",
    "    if i == 0:\n",
    "        if score_1 >= score_2:\n",
    "            x.append(1)\n",
    "        else:\n",
    "            x.append(0)\n",
    "    elif score_1 >= score_2:\n",
    "        win_1 += 1\n",
    "print(win_1)"
   ]
  },
  {
   "cell_type": "code",
   "execution_count": 26,
   "metadata": {
    "collapsed": false
   },
   "outputs": [
    {
     "name": "stdout",
     "output_type": "stream",
     "text": [
      "49694\n"
     ]
    }
   ],
   "source": [
    "# A_E:\n",
    "x = []\n",
    "win_1 = 0\n",
    "for i in range(0,100000):\n",
    "    score_1 = 0\n",
    "    score_2 = 0\n",
    "    deck = [1,2,3,4,5,6,7,8,9,10,11,12,12,\n",
    "       1,2,3,4,5,6,7,8,9,10,11,12,12]\n",
    "    while len(deck) > 0:\n",
    "        item = random.choice(deck)\n",
    "        deck.remove(item)\n",
    "        roll = random.randint(1,6) + random.randint(1,6)\n",
    "        if roll >= item:\n",
    "            score_1 += item\n",
    "        elif score_1 <= score_2 :\n",
    "            roll = random.randint(1,6) + random.randint(1,6)\n",
    "            if roll >= item:\n",
    "                score_1 += item\n",
    "            else:\n",
    "                score_1 -= item\n",
    "                if score_1 < 0:\n",
    "                    score_1 = 0\n",
    "        item = random.choice(deck)\n",
    "        deck.remove(item)\n",
    "        roll = random.randint(1,6) + random.randint(1,6)\n",
    "        if roll >= item:\n",
    "            score_2 += item\n",
    "    if i == 0:\n",
    "        if score_1 >= score_2:\n",
    "            x.append(1)\n",
    "        else:\n",
    "            x.append(0)\n",
    "    elif score_1 >= score_2:\n",
    "        win_1 += 1\n",
    "print(win_1)"
   ]
  },
  {
   "cell_type": "code",
   "execution_count": 23,
   "metadata": {
    "collapsed": false
   },
   "outputs": [
    {
     "name": "stdout",
     "output_type": "stream",
     "text": [
      "51223\n"
     ]
    }
   ],
   "source": [
    "# B_B:\n",
    "x = []\n",
    "win_1 = 0\n",
    "M = 60\n",
    "for i in range(0,100000):\n",
    "    score_1 = 0\n",
    "    score_2 = 0\n",
    "    deck = [1,2,3,4,5,6,7,8,9,10,11,12,12,\n",
    "       1,2,3,4,5,6,7,8,9,10,11,12,12]\n",
    "    while len(deck) > 0:\n",
    "        item = random.choice(deck)\n",
    "        deck.remove(item)\n",
    "        roll = random.randint(1,6) + random.randint(1,6)\n",
    "        if roll >= item:\n",
    "            score_1 += item\n",
    "        elif score_1 < item:\n",
    "            roll = random.randint(1,6) + random.randint(1,6)\n",
    "            if roll >= item:\n",
    "                score_1 += item\n",
    "            else:\n",
    "                score_1 -= item\n",
    "                if score_1 < 0:\n",
    "                    score_1 = 0\n",
    "\n",
    "        item = random.choice(deck)\n",
    "        deck.remove(item)\n",
    "        roll = random.randint(1,6) + random.randint(1,6)\n",
    "        if roll >= item:\n",
    "            score_2 += item\n",
    "        elif score_2 < item:\n",
    "            roll = random.randint(1,6) + random.randint(1,6)\n",
    "            if roll >= item:\n",
    "                score_2 += item\n",
    "            else:\n",
    "                score_2 -= item\n",
    "                if score_2 < 0:\n",
    "                    score_2 = 0\n",
    "    if i == 0:\n",
    "        if score_1 >= score_2:\n",
    "            x.append(1)\n",
    "        else:\n",
    "            x.append(0)\n",
    "    elif score_1 >= score_2:\n",
    "        win_1 += 1\n",
    "print(win_1)"
   ]
  },
  {
   "cell_type": "code",
   "execution_count": 9,
   "metadata": {
    "collapsed": false
   },
   "outputs": [
    {
     "name": "stdout",
     "output_type": "stream",
     "text": [
      "48938\n"
     ]
    }
   ],
   "source": [
    "# B_C_60\n",
    "x = []\n",
    "win_1 = 0\n",
    "M = 60\n",
    "for i in range(0,100000):\n",
    "    score_1 = 0\n",
    "    score_2 = 0\n",
    "    deck = [1,2,3,4,5,6,7,8,9,10,11,12,12,\n",
    "       1,2,3,4,5,6,7,8,9,10,11,12,12]\n",
    "    while len(deck) > 0:\n",
    "        item = random.choice(deck)\n",
    "        deck.remove(item)\n",
    "        roll = random.randint(1,6) + random.randint(1,6)\n",
    "        if roll >= item:\n",
    "            score_1 += item\n",
    "        elif score_1 < item:\n",
    "            roll = random.randint(1,6) + random.randint(1,6)\n",
    "            if roll >= item:\n",
    "                score_1 += item\n",
    "            else:\n",
    "                score_1 -= item\n",
    "                if score_1 < 0:\n",
    "                    score_1 = 0\n",
    "\n",
    "        item = random.choice(deck)\n",
    "        deck.remove(item)\n",
    "        roll = random.randint(1,6) + random.randint(1,6)\n",
    "        if roll >= item:\n",
    "            score_2 += item\n",
    "        elif score_2 >= M:\n",
    "            roll = random.randint(1,6) + random.randint(1,6)\n",
    "            if roll >= item:\n",
    "                score_2 += item\n",
    "            else:\n",
    "                score_2 -= item\n",
    "                if score_2 < 0:\n",
    "                    score_2 = 0\n",
    "    if i == 0:\n",
    "        if score_1 >= score_2:\n",
    "            x.append(1)\n",
    "        else:\n",
    "            x.append(0)\n",
    "    elif score_1 >= score_2:\n",
    "        win_1 += 1\n",
    "print(win_1)"
   ]
  },
  {
   "cell_type": "code",
   "execution_count": 27,
   "metadata": {
    "collapsed": false
   },
   "outputs": [
    {
     "name": "stdout",
     "output_type": "stream",
     "text": [
      "45945\n"
     ]
    }
   ],
   "source": [
    "# B_D_6:\n",
    "x = []\n",
    "win_1 = 0\n",
    "M = 6\n",
    "for i in range(0,100000):\n",
    "    score_1 = 0\n",
    "    score_2 = 0\n",
    "    deck = [1,2,3,4,5,6,7,8,9,10,11,12,12,\n",
    "       1,2,3,4,5,6,7,8,9,10,11,12,12]\n",
    "    while len(deck) > 0:\n",
    "        item = random.choice(deck)\n",
    "        deck.remove(item)\n",
    "        roll = random.randint(1,6) + random.randint(1,6)\n",
    "        if roll >= item:\n",
    "            score_1 += item\n",
    "        elif score_1 < item:\n",
    "            roll = random.randint(1,6) + random.randint(1,6)\n",
    "            if roll >= item:\n",
    "                score_1 += item\n",
    "            else:\n",
    "                score_1 -= item\n",
    "                if score_1 < 0:\n",
    "                    score_1 = 0\n",
    "\n",
    "        item = random.choice(deck)\n",
    "        deck.remove(item)\n",
    "        roll = random.randint(1,6) + random.randint(1,6)\n",
    "        if roll >= item:\n",
    "            score_2 += item\n",
    "        elif score_2 <= M:\n",
    "            roll = random.randint(1,6) + random.randint(1,6)\n",
    "            if roll >= item:\n",
    "                score_2 += item\n",
    "            else:\n",
    "                score_2 -= item\n",
    "                if score_2 < 0:\n",
    "                    score_2 = 0\n",
    "    if i == 0:\n",
    "        if score_1 >= score_2:\n",
    "            x.append(1)\n",
    "        else:\n",
    "            x.append(0)\n",
    "    elif score_1 >= score_2:\n",
    "        win_1 += 1\n",
    "print(win_1)"
   ]
  },
  {
   "cell_type": "code",
   "execution_count": 14,
   "metadata": {
    "collapsed": false
   },
   "outputs": [
    {
     "name": "stdout",
     "output_type": "stream",
     "text": [
      "52063\n"
     ]
    }
   ],
   "source": [
    "# B_E:\n",
    "x = []\n",
    "win_1 = 0\n",
    "for i in range(0,100000):\n",
    "    score_1 = 0\n",
    "    score_2 = 0\n",
    "    deck = [1,2,3,4,5,6,7,8,9,10,11,12,12,\n",
    "       1,2,3,4,5,6,7,8,9,10,11,12,12]\n",
    "    while len(deck) > 0:\n",
    "        item = random.choice(deck)\n",
    "        deck.remove(item)\n",
    "        roll = random.randint(1,6) + random.randint(1,6)\n",
    "        if roll >= item:\n",
    "            score_1 += item\n",
    "        elif score_1 < item:\n",
    "            roll = random.randint(1,6) + random.randint(1,6)\n",
    "            if roll >= item:\n",
    "                score_1 += item\n",
    "            else:\n",
    "                score_1 -= item\n",
    "                if score_1 < 0:\n",
    "                    score_1 = 0\n",
    "\n",
    "        item = random.choice(deck)\n",
    "        deck.remove(item)\n",
    "        roll = random.randint(1,6) + random.randint(1,6)\n",
    "        if roll >= item:\n",
    "            score_2 += item\n",
    "        elif score_2 <= score_1 :\n",
    "            roll = random.randint(1,6) + random.randint(1,6)\n",
    "            if roll >= item:\n",
    "                score_2 += item\n",
    "            else:\n",
    "                score_2 -= item\n",
    "                if score_2 < 0:\n",
    "                    score_2 = 0\n",
    "    if i == 0:\n",
    "        if score_1 >= score_2:\n",
    "            x.append(1)\n",
    "        else:\n",
    "            x.append(0)\n",
    "    elif score_1 >= score_2:\n",
    "        win_1 += 1\n",
    "print(win_1)"
   ]
  },
  {
   "cell_type": "code",
   "execution_count": 24,
   "metadata": {
    "collapsed": false
   },
   "outputs": [
    {
     "name": "stdout",
     "output_type": "stream",
     "text": [
      "51164\n"
     ]
    }
   ],
   "source": [
    "# C_60_C_60:\n",
    "x = []\n",
    "win_1 = 0\n",
    "M = 60\n",
    "for i in range(0,100000):\n",
    "    score_1 = 0\n",
    "    score_2 = 0\n",
    "    deck = [1,2,3,4,5,6,7,8,9,10,11,12,12,\n",
    "       1,2,3,4,5,6,7,8,9,10,11,12,12]\n",
    "    while len(deck) > 0:\n",
    "        item = random.choice(deck)\n",
    "        deck.remove(item)\n",
    "        roll = random.randint(1,6) + random.randint(1,6)\n",
    "        if roll >= item:\n",
    "            score_1 += item\n",
    "        elif score_1 >= M:\n",
    "            roll = random.randint(1,6) + random.randint(1,6)\n",
    "            if roll >= item:\n",
    "                score_1 += item\n",
    "            else:\n",
    "                score_1 -= item\n",
    "                if score_1 < 0:\n",
    "                    score_1 = 0\n",
    "\n",
    "        item = random.choice(deck)\n",
    "        deck.remove(item)\n",
    "        roll = random.randint(1,6) + random.randint(1,6)\n",
    "        if roll >= item:\n",
    "            score_2 += item\n",
    "        elif score_2 >= M:\n",
    "            roll = random.randint(1,6) + random.randint(1,6)\n",
    "            if roll >= item:\n",
    "                score_2 += item\n",
    "            else:\n",
    "                score_2 -= item\n",
    "                if score_2 < 0:\n",
    "                    score_2 = 0\n",
    "    if i == 0:\n",
    "        if score_1 >= score_2:\n",
    "            x.append(1)\n",
    "        else:\n",
    "            x.append(0)\n",
    "    elif score_1 >= score_2:\n",
    "        win_1 += 1\n",
    "print(win_1)"
   ]
  },
  {
   "cell_type": "code",
   "execution_count": 28,
   "metadata": {
    "collapsed": false
   },
   "outputs": [
    {
     "name": "stdout",
     "output_type": "stream",
     "text": [
      "47826\n"
     ]
    }
   ],
   "source": [
    "# C_60_D_6:\n",
    "x = []\n",
    "win_1 = 0\n",
    "M = 60\n",
    "N = 6\n",
    "for i in range(0,100000):\n",
    "    score_1 = 0\n",
    "    score_2 = 0\n",
    "    deck = [1,2,3,4,5,6,7,8,9,10,11,12,12,\n",
    "       1,2,3,4,5,6,7,8,9,10,11,12,12]\n",
    "    while len(deck) > 0:\n",
    "        item = random.choice(deck)\n",
    "        deck.remove(item)\n",
    "        roll = random.randint(1,6) + random.randint(1,6)\n",
    "        if roll >= item:\n",
    "            score_1 += item\n",
    "        elif score_1 >= M:\n",
    "            roll = random.randint(1,6) + random.randint(1,6)\n",
    "            if roll >= item:\n",
    "                score_1 += item\n",
    "            else:\n",
    "                score_1 -= item\n",
    "                if score_1 < 0:\n",
    "                    score_1 = 0\n",
    "\n",
    "        item = random.choice(deck)\n",
    "        deck.remove(item)\n",
    "        roll = random.randint(1,6) + random.randint(1,6)\n",
    "        if roll >= item:\n",
    "            score_2 += item\n",
    "        elif score_2 <= N:\n",
    "            roll = random.randint(1,6) + random.randint(1,6)\n",
    "            if roll >= item:\n",
    "                score_2 += item\n",
    "            else:\n",
    "                score_2 -= item\n",
    "                if score_2 < 0:\n",
    "                    score_2 = 0\n",
    "    if i == 0:\n",
    "        if score_1 >= score_2:\n",
    "            x.append(1)\n",
    "        else:\n",
    "            x.append(0)\n",
    "    elif score_1 >= score_2:\n",
    "        win_1 += 1\n",
    "print(win_1)"
   ]
  },
  {
   "cell_type": "code",
   "execution_count": 15,
   "metadata": {
    "collapsed": false
   },
   "outputs": [
    {
     "name": "stdout",
     "output_type": "stream",
     "text": [
      "54491\n"
     ]
    }
   ],
   "source": [
    "# C_60_E:\n",
    "x = []\n",
    "win_1 = 0\n",
    "M = 60\n",
    "for i in range(0,100000):\n",
    "    score_1 = 0\n",
    "    score_2 = 0\n",
    "    deck = [1,2,3,4,5,6,7,8,9,10,11,12,12,\n",
    "       1,2,3,4,5,6,7,8,9,10,11,12,12]\n",
    "    while len(deck) > 0:\n",
    "        item = random.choice(deck)\n",
    "        deck.remove(item)\n",
    "        roll = random.randint(1,6) + random.randint(1,6)\n",
    "        if roll >= item:\n",
    "            score_1 += item\n",
    "        elif score_1 >= M:\n",
    "            roll = random.randint(1,6) + random.randint(1,6)\n",
    "            if roll >= item:\n",
    "                score_1 += item\n",
    "            else:\n",
    "                score_1 -= item\n",
    "                if score_1 < 0:\n",
    "                    score_1 = 0\n",
    "\n",
    "        item = random.choice(deck)\n",
    "        deck.remove(item)\n",
    "        roll = random.randint(1,6) + random.randint(1,6)\n",
    "        if roll >= item:\n",
    "            score_2 += item\n",
    "        elif score_2 <= score_1 :\n",
    "            roll = random.randint(1,6) + random.randint(1,6)\n",
    "            if roll >= item:\n",
    "                score_2 += item\n",
    "            else:\n",
    "                score_2 -= item\n",
    "                if score_2 < 0:\n",
    "                    score_2 = 0\n",
    "    if i == 0:\n",
    "        if score_1 >= score_2:\n",
    "            x.append(1)\n",
    "        else:\n",
    "            x.append(0)\n",
    "    elif score_1 >= score_2:\n",
    "        win_1 += 1\n",
    "print(win_1)"
   ]
  },
  {
   "cell_type": "code",
   "execution_count": 29,
   "metadata": {
    "collapsed": false
   },
   "outputs": [
    {
     "name": "stdout",
     "output_type": "stream",
     "text": [
      "51273\n"
     ]
    }
   ],
   "source": [
    "# D_6_D_6:\n",
    "x = []\n",
    "win_1 = 0\n",
    "M = 6\n",
    "for i in range(0,100000):\n",
    "    score_1 = 0\n",
    "    score_2 = 0\n",
    "    deck = [1,2,3,4,5,6,7,8,9,10,11,12,12,\n",
    "       1,2,3,4,5,6,7,8,9,10,11,12,12]\n",
    "    while len(deck) > 0:\n",
    "        item = random.choice(deck)\n",
    "        deck.remove(item)\n",
    "        roll = random.randint(1,6) + random.randint(1,6)\n",
    "        if roll >= item:\n",
    "            score_1 += item\n",
    "        elif score_1 <= M:\n",
    "            roll = random.randint(1,6) + random.randint(1,6)\n",
    "            if roll >= item:\n",
    "                score_1 += item\n",
    "            else:\n",
    "                score_1 -= item\n",
    "                if score_1 < 0:\n",
    "                    score_1 = 0\n",
    "\n",
    "        item = random.choice(deck)\n",
    "        deck.remove(item)\n",
    "        roll = random.randint(1,6) + random.randint(1,6)\n",
    "        if roll >= item:\n",
    "            score_2 += item\n",
    "        elif score_2 <= M:\n",
    "            roll = random.randint(1,6) + random.randint(1,6)\n",
    "            if roll >= item:\n",
    "                score_2 += item\n",
    "            else:\n",
    "                score_2 -= item\n",
    "                if score_2 < 0:\n",
    "                    score_2 = 0\n",
    "    if i == 0:\n",
    "        if score_1 >= score_2:\n",
    "            x.append(1)\n",
    "        else:\n",
    "            x.append(0)\n",
    "    elif score_1 >= score_2:\n",
    "        win_1 += 1\n",
    "print(win_1)"
   ]
  },
  {
   "cell_type": "code",
   "execution_count": 30,
   "metadata": {
    "collapsed": false
   },
   "outputs": [
    {
     "name": "stdout",
     "output_type": "stream",
     "text": [
      "58398\n"
     ]
    }
   ],
   "source": [
    "# D_6_E:\n",
    "x = []\n",
    "win_1 = 0\n",
    "M = 6\n",
    "for i in range(0,100000):\n",
    "    score_1 = 0\n",
    "    score_2 = 0\n",
    "    deck = [1,2,3,4,5,6,7,8,9,10,11,12,12,\n",
    "       1,2,3,4,5,6,7,8,9,10,11,12,12]\n",
    "    while len(deck) > 0:\n",
    "        item = random.choice(deck)\n",
    "        deck.remove(item)\n",
    "        roll = random.randint(1,6) + random.randint(1,6)\n",
    "        if roll >= item:\n",
    "            score_1 += item\n",
    "        elif score_1 <= M:\n",
    "            roll = random.randint(1,6) + random.randint(1,6)\n",
    "            if roll >= item:\n",
    "                score_1 += item\n",
    "            else:\n",
    "                score_1 -= item\n",
    "                if score_1 < 0:\n",
    "                    score_1 = 0\n",
    "\n",
    "        item = random.choice(deck)\n",
    "        deck.remove(item)\n",
    "        roll = random.randint(1,6) + random.randint(1,6)\n",
    "        if roll >= item:\n",
    "            score_2 += item\n",
    "        elif score_2 <= score_1 :\n",
    "            roll = random.randint(1,6) + random.randint(1,6)\n",
    "            if roll >= item:\n",
    "                score_2 += item\n",
    "            else:\n",
    "                score_2 -= item\n",
    "                if score_2 < 0:\n",
    "                    score_2 = 0\n",
    "    if i == 0:\n",
    "        if score_1 >= score_2:\n",
    "            x.append(1)\n",
    "        else:\n",
    "            x.append(0)\n",
    "    elif score_1 >= score_2:\n",
    "        win_1 += 1\n",
    "print(win_1)"
   ]
  },
  {
   "cell_type": "code",
   "execution_count": 31,
   "metadata": {
    "collapsed": false
   },
   "outputs": [
    {
     "name": "stdout",
     "output_type": "stream",
     "text": [
      "52743\n"
     ]
    }
   ],
   "source": [
    "# E_E:\n",
    "x = []\n",
    "win_1 = 0\n",
    "for i in range(0,100000):\n",
    "    score_1 = 0\n",
    "    score_2 = 0\n",
    "    deck = [1,2,3,4,5,6,7,8,9,10,11,12,12,\n",
    "       1,2,3,4,5,6,7,8,9,10,11,12,12]\n",
    "    while len(deck) > 0:\n",
    "        item = random.choice(deck)\n",
    "        deck.remove(item)\n",
    "        roll = random.randint(1,6) + random.randint(1,6)\n",
    "        if roll >= item:\n",
    "            score_1 += item\n",
    "        elif score_1 <= score_2 :\n",
    "            roll = random.randint(1,6) + random.randint(1,6)\n",
    "            if roll >= item:\n",
    "                score_1 += item\n",
    "            else:\n",
    "                score_1 -= item\n",
    "                if score_1 < 0:\n",
    "                    score_1 = 0\n",
    "\n",
    "        item = random.choice(deck)\n",
    "        deck.remove(item)\n",
    "        roll = random.randint(1,6) + random.randint(1,6)\n",
    "        if roll >= item:\n",
    "            score_2 += item\n",
    "        elif score_2 <= score_1 :\n",
    "            roll = random.randint(1,6) + random.randint(1,6)\n",
    "            if roll >= item:\n",
    "                score_2 += item\n",
    "            else:\n",
    "                score_2 -= item\n",
    "                if score_2 < 0:\n",
    "                    score_2 = 0\n",
    "    if i == 0:\n",
    "        if score_1 >= score_2:\n",
    "            x.append(1)\n",
    "        else:\n",
    "            x.append(0)\n",
    "    elif score_1 >= score_2:\n",
    "        win_1 += 1\n",
    "print(win_1)"
   ]
  },
  {
   "cell_type": "code",
   "execution_count": 4,
   "metadata": {
    "collapsed": false,
    "scrolled": true
   },
   "outputs": [
    {
     "name": "stdout",
     "output_type": "stream",
     "text": [
      "end\n"
     ]
    },
    {
     "name": "stdout",
     "output_type": "stream",
     "text": [
      "end\n"
     ]
    },
    {
     "name": "stdout",
     "output_type": "stream",
     "text": [
      "end\n"
     ]
    },
    {
     "name": "stdout",
     "output_type": "stream",
     "text": [
      "end\n"
     ]
    },
    {
     "name": "stdout",
     "output_type": "stream",
     "text": [
      "end\n"
     ]
    },
    {
     "name": "stdout",
     "output_type": "stream",
     "text": [
      "end\n"
     ]
    },
    {
     "name": "stdout",
     "output_type": "stream",
     "text": [
      "end\n"
     ]
    },
    {
     "name": "stdout",
     "output_type": "stream",
     "text": [
      "end\n"
     ]
    },
    {
     "name": "stdout",
     "output_type": "stream",
     "text": [
      "end\n"
     ]
    },
    {
     "name": "stdout",
     "output_type": "stream",
     "text": [
      "end\n"
     ]
    },
    {
     "data": {
      "text/plain": [
       "Text(0.5, 1.0, 'Probability to win the game for player 1 using strategy A')"
      ]
     },
     "execution_count": 4,
     "metadata": {
     },
     "output_type": "execute_result"
    },
    {
     "data": {
      "image/png": "[encoded data removed]",
      "text/plain": [
       "<Figure size 432x288 with 1 Axes>"
      ]
     },
     "execution_count": 4,
     "metadata": {
      "needs_background": "light"
     },
     "output_type": "execute_result"
    }
   ],
   "source": [
    "# A: Two players never gamble\n",
    "for j in range(0,10):\n",
    "    x = []\n",
    "    win_1 = 0\n",
    "    for i in range(0,100000):\n",
    "        score_1 = 0\n",
    "        score_2 = 0\n",
    "        deck = [1,2,3,4,5,6,7,8,9,10,11,12,12,\n",
    "           1,2,3,4,5,6,7,8,9,10,11,12,12]\n",
    "        while len(deck) > 0:\n",
    "            item = random.choice(deck)\n",
    "            deck.remove(item)\n",
    "            roll = random.randint(1,6) + random.randint(1,6)\n",
    "            if roll >= item:\n",
    "                score_1 += item\n",
    "\n",
    "            item = random.choice(deck)\n",
    "            deck.remove(item)\n",
    "            roll = random.randint(1,6) + random.randint(1,6)\n",
    "            if roll >= item:\n",
    "                score_2 += item\n",
    "        if i == 0:\n",
    "            if score_1 >= score_2:\n",
    "                x.append(1)\n",
    "            else:\n",
    "                x.append(0)\n",
    "        elif score_1 >= score_2:\n",
    "            win_1 += 1\n",
    "        x.append(win_1)\n",
    "\n",
    "    for i in range(1,100001):\n",
    "        x[i] = x[i]/i\n",
    "    print(\"end\")\n",
    "    plt.plot(range(0,100001),x)\n",
    "plt.ylim([0.49, 0.55])\n",
    "plt.xlabel('number of games')\n",
    "plt.ylabel('probability to win the game for player 1')\n",
    "plt.title('Probability to win the game for player 1 using strategy A')"
   ]
  },
  {
   "cell_type": "code",
   "execution_count": 3,
   "metadata": {
    "collapsed": false
   },
   "outputs": [
    {
     "name": "stdout",
     "output_type": "stream",
     "text": [
      "end\n"
     ]
    },
    {
     "name": "stdout",
     "output_type": "stream",
     "text": [
      "end\n"
     ]
    },
    {
     "name": "stdout",
     "output_type": "stream",
     "text": [
      "end\n"
     ]
    },
    {
     "name": "stdout",
     "output_type": "stream",
     "text": [
      "end\n"
     ]
    },
    {
     "name": "stdout",
     "output_type": "stream",
     "text": [
      "end\n"
     ]
    },
    {
     "name": "stdout",
     "output_type": "stream",
     "text": [
      "end\n"
     ]
    },
    {
     "name": "stdout",
     "output_type": "stream",
     "text": [
      "end\n"
     ]
    },
    {
     "name": "stdout",
     "output_type": "stream",
     "text": [
      "end\n"
     ]
    },
    {
     "name": "stdout",
     "output_type": "stream",
     "text": [
      "end\n"
     ]
    },
    {
     "name": "stdout",
     "output_type": "stream",
     "text": [
      "end\n"
     ]
    },
    {
     "data": {
      "text/plain": [
       "Text(0.5, 1.0, 'Probability to win the game for player 1 using strategy B')"
      ]
     },
     "execution_count": 3,
     "metadata": {
     },
     "output_type": "execute_result"
    },
    {
     "data": {
      "image/png": "[encoded data removed]",
      "text/plain": [
       "<Figure size 432x288 with 1 Axes>"
      ]
     },
     "execution_count": 3,
     "metadata": {
      "needs_background": "light"
     },
     "output_type": "execute_result"
    }
   ],
   "source": [
    "# B: Player 1 would only gamble if the current score is less than the number on the card. Player 2 never gamble.\n",
    "for j in range(0,10):\n",
    "    x = []\n",
    "    win_1 = 0\n",
    "    for i in range(0,100000):\n",
    "        score_1 = 0\n",
    "        score_2 = 0\n",
    "        deck = [1,2,3,4,5,6,7,8,9,10,11,12,12,\n",
    "           1,2,3,4,5,6,7,8,9,10,11,12,12]\n",
    "        while len(deck) > 0:\n",
    "            item = random.choice(deck)\n",
    "            deck.remove(item)\n",
    "            roll = random.randint(1,6) + random.randint(1,6)\n",
    "            if roll >= item:\n",
    "                score_1 += item\n",
    "            elif score_1 < item:\n",
    "                roll = random.randint(1,6) + random.randint(1,6)\n",
    "                if roll >= item:\n",
    "                    score_1 += item\n",
    "                else:\n",
    "                    score_1 -= item\n",
    "                    if score_1 < 0:\n",
    "                        score_1 = 0\n",
    "            item = random.choice(deck)\n",
    "            deck.remove(item)\n",
    "            roll = random.randint(1,6) + random.randint(1,6)\n",
    "            if roll >= item:\n",
    "                score_2 += item\n",
    "        if i == 0:\n",
    "            if score_1 >= score_2:\n",
    "                x.append(1)\n",
    "            else:\n",
    "                x.append(0)\n",
    "        elif score_1 >= score_2:\n",
    "            win_1 += 1\n",
    "        x.append(win_1)\n",
    "\n",
    "    for i in range(1,100001):\n",
    "        x[i] = x[i]/i\n",
    "    print(\"end\")\n",
    "    plt.plot(range(0,100001),x)\n",
    "plt.ylim([0.45, 0.51])\n",
    "plt.xlabel('number of games')\n",
    "plt.ylabel('probability to win the game for player 1')\n",
    "plt.title('Probability to win the game for player 1 using strategy B')"
   ]
  },
  {
   "cell_type": "code",
   "execution_count": 4,
   "metadata": {
    "collapsed": false
   },
   "outputs": [
    {
     "name": "stdout",
     "output_type": "stream",
     "text": [
      "end\n"
     ]
    },
    {
     "name": "stdout",
     "output_type": "stream",
     "text": [
      "end\n"
     ]
    },
    {
     "name": "stdout",
     "output_type": "stream",
     "text": [
      "end\n"
     ]
    },
    {
     "name": "stdout",
     "output_type": "stream",
     "text": [
      "end\n"
     ]
    },
    {
     "name": "stdout",
     "output_type": "stream",
     "text": [
      "end\n"
     ]
    },
    {
     "name": "stdout",
     "output_type": "stream",
     "text": [
      "end\n"
     ]
    },
    {
     "name": "stdout",
     "output_type": "stream",
     "text": [
      "end\n"
     ]
    },
    {
     "name": "stdout",
     "output_type": "stream",
     "text": [
      "end\n"
     ]
    },
    {
     "name": "stdout",
     "output_type": "stream",
     "text": [
      "end\n"
     ]
    },
    {
     "name": "stdout",
     "output_type": "stream",
     "text": [
      "end\n"
     ]
    },
    {
     "data": {
      "text/plain": [
       "Text(0.5, 1.0, 'Probability to win the game for player 1 using strategy C_40')"
      ]
     },
     "execution_count": 4,
     "metadata": {
     },
     "output_type": "execute_result"
    },
    {
     "data": {
      "image/png": "[encoded data removed]",
      "text/plain": [
       "<Figure size 432x288 with 1 Axes>"
      ]
     },
     "execution_count": 4,
     "metadata": {
      "needs_background": "light"
     },
     "output_type": "execute_result"
    }
   ],
   "source": [
    "# C_40: Player 1 would only gamble if the current score is greater or equal than M. (M = 40, 50, 60). Player 2 never gamble.\n",
    "M = 40\n",
    "for j in range(0,10):\n",
    "    x = []\n",
    "    win_1 = 0\n",
    "    for i in range(0,100000):\n",
    "        score_1 = 0\n",
    "        score_2 = 0\n",
    "        deck = [1,2,3,4,5,6,7,8,9,10,11,12,12,\n",
    "           1,2,3,4,5,6,7,8,9,10,11,12,12]\n",
    "        while len(deck) > 0:\n",
    "            item = random.choice(deck)\n",
    "            deck.remove(item)\n",
    "            roll = random.randint(1,6) + random.randint(1,6)\n",
    "            if roll >= item:\n",
    "                score_1 += item\n",
    "            elif score_1 >= M:\n",
    "                roll = random.randint(1,6) + random.randint(1,6)\n",
    "                if roll >= item:\n",
    "                    score_1 += item\n",
    "                else:\n",
    "                    score_1 -= item\n",
    "                    if score_1 < 0:\n",
    "                        score_1 = 0\n",
    "            item = random.choice(deck)\n",
    "            deck.remove(item)\n",
    "            roll = random.randint(1,6) + random.randint(1,6)\n",
    "            if roll >= item:\n",
    "                score_2 += item\n",
    "        if i == 0:\n",
    "            if score_1 >= score_2:\n",
    "                x.append(1)\n",
    "            else:\n",
    "                x.append(0)\n",
    "        elif score_1 >= score_2:\n",
    "            win_1 += 1\n",
    "        x.append(win_1)\n",
    "\n",
    "    for i in range(1,100001):\n",
    "        x[i] = x[i]/i\n",
    "    print(\"end\")\n",
    "    plt.plot(range(0,100001),x)\n",
    "plt.ylim([0.45, 0.55])\n",
    "plt.xlabel('number of games')\n",
    "plt.ylabel('probability to win the game for player 1')\n",
    "plt.title('Probability to win the game for player 1 using strategy C_40')"
   ]
  },
  {
   "cell_type": "code",
   "execution_count": 27,
   "metadata": {
    "collapsed": false
   },
   "outputs": [
    {
     "name": "stdout",
     "output_type": "stream",
     "text": [
      "end\n"
     ]
    },
    {
     "name": "stdout",
     "output_type": "stream",
     "text": [
      "end\n"
     ]
    },
    {
     "name": "stdout",
     "output_type": "stream",
     "text": [
      "end\n"
     ]
    },
    {
     "name": "stdout",
     "output_type": "stream",
     "text": [
      "end\n"
     ]
    },
    {
     "name": "stdout",
     "output_type": "stream",
     "text": [
      "end\n"
     ]
    },
    {
     "name": "stdout",
     "output_type": "stream",
     "text": [
      "end\n"
     ]
    },
    {
     "name": "stdout",
     "output_type": "stream",
     "text": [
      "end\n"
     ]
    },
    {
     "name": "stdout",
     "output_type": "stream",
     "text": [
      "end\n"
     ]
    },
    {
     "name": "stdout",
     "output_type": "stream",
     "text": [
      "end\n"
     ]
    },
    {
     "name": "stdout",
     "output_type": "stream",
     "text": [
      "end\n"
     ]
    },
    {
     "name": "stdout",
     "output_type": "stream",
     "text": [
      "0.509154908450915\n",
      "0.514624853751462\n",
      "0.509854901450985\n",
      "0.511714882851172\n",
      "0.513624863751363\n",
      "0.509154908450915\n",
      "0.511704882951170\n",
      "0.511354886451135\n",
      "0.514624853751462\n",
      "0.512864871351286\n",
      "0.513884861151389\n",
      "0.514224857751422\n"
     ]
    },
    {
     "data": {
      "text/plain": [
       "<function end at 0x7f215c111790>"
      ]
     },
     "execution_count": 27,
     "metadata": {
     },
     "output_type": "execute_result"
    },
    {
     "data": {
      "image/png": "[encoded data removed]",
      "text/plain": [
       "<Figure size 432x288 with 1 Axes>"
      ]
     },
     "execution_count": 27,
     "metadata": {
      "needs_background": "light"
     },
     "output_type": "execute_result"
    }
   ],
   "source": [
    "# C_50: Player 1 would only gamble if the current score is greater or equal than M. (M = 40, 50, 60). Player 2 never gamble.\n",
    "M = 50\n",
    "x_mean = []\n",
    "for j in range(0,10):\n",
    "    x = []\n",
    "    win_1 = 0\n",
    "    for i in range(0,100000):\n",
    "        score_1 = 0\n",
    "        score_2 = 0\n",
    "        deck = [1,2,3,4,5,6,7,8,9,10,11,12,12,\n",
    "           1,2,3,4,5,6,7,8,9,10,11,12,12]\n",
    "        while len(deck) > 0:\n",
    "            item = random.choice(deck)\n",
    "            deck.remove(item)\n",
    "            roll = random.randint(1,6) + random.randint(1,6)\n",
    "            if roll >= item:\n",
    "                score_1 += item\n",
    "            elif score_1 >= M:\n",
    "                roll = random.randint(1,6) + random.randint(1,6)\n",
    "                if roll >= item:\n",
    "                    score_1 += item\n",
    "                else:\n",
    "                    score_1 -= item\n",
    "                    if score_1 < 0:\n",
    "                        score_1 = 0\n",
    "            item = random.choice(deck)\n",
    "            deck.remove(item)\n",
    "            roll = random.randint(1,6) + random.randint(1,6)\n",
    "            if roll >= item:\n",
    "                score_2 += item\n",
    "        if i == 0:\n",
    "            if score_1 >= score_2:\n",
    "                x.append(1)\n",
    "            else:\n",
    "                x.append(0)\n",
    "        elif score_1 >= score_2:\n",
    "            win_1 += 1\n",
    "        x.append(win_1)\n",
    "    x_mean.append(win_1 / len(x))\n",
    "    for i in range(1,100001):\n",
    "        x[i] = x[i]/i\n",
    "    print(\"end\")\n",
    "    plt.plot(range(0,100001),x)\n",
    "plt.ylim([0.45, 0.55])\n",
    "plt.xlabel('number of games')\n",
    "plt.ylabel('probability to win the game for player 1')\n",
    "plt.title('Probability to win the game for player 1 using strategy C_50')\n",
    "print(min(x_mean)*1.)\n",
    "print(max(x_mean)*1.)\n",
    "\n",
    "for i in range(0, len(x_mean)):\n",
    "    print(x_mean[i]*1.)\n",
    "end"
   ]
  },
  {
   "cell_type": "code",
   "execution_count": 31,
   "metadata": {
    "collapsed": false
   },
   "outputs": [
    {
     "name": "stdout",
     "output_type": "stream",
     "text": [
      "0.469530469530470\n",
      "0.557442557442557\n"
     ]
    },
    {
     "data": {
      "text/plain": [
       "Text(0.5, 1.0, 'The distribution of winning the game using strategy C_50')"
      ]
     },
     "execution_count": 31,
     "metadata": {
     },
     "output_type": "execute_result"
    },
    {
     "data": {
      "image/png": "[encoded data removed]",
      "text/plain": [
       "<Figure size 432x288 with 1 Axes>"
      ]
     },
     "execution_count": 31,
     "metadata": {
      "needs_background": "light"
     },
     "output_type": "execute_result"
    }
   ],
   "source": [
    "# C_50: Player 1 would only gamble if the current score is greater or equal than M. (M = 40, 50, 60). Player 2 never gamble.\n",
    "M = 50\n",
    "x_mean = []\n",
    "for j in range(0,1000):\n",
    "    x = []\n",
    "    win_1 = 0\n",
    "    for i in range(0,1000):\n",
    "        score_1 = 0\n",
    "        score_2 = 0\n",
    "        deck = [1,2,3,4,5,6,7,8,9,10,11,12,12,\n",
    "           1,2,3,4,5,6,7,8,9,10,11,12,12]\n",
    "        while len(deck) > 0:\n",
    "            item = random.choice(deck)\n",
    "            deck.remove(item)\n",
    "            roll = random.randint(1,6) + random.randint(1,6)\n",
    "            if roll >= item:\n",
    "                score_1 += item\n",
    "            elif score_1 >= M:\n",
    "                roll = random.randint(1,6) + random.randint(1,6)\n",
    "                if roll >= item:\n",
    "                    score_1 += item\n",
    "                else:\n",
    "                    score_1 -= item\n",
    "                    if score_1 < 0:\n",
    "                        score_1 = 0\n",
    "            item = random.choice(deck)\n",
    "            deck.remove(item)\n",
    "            roll = random.randint(1,6) + random.randint(1,6)\n",
    "            if roll >= item:\n",
    "                score_2 += item\n",
    "        if i == 0:\n",
    "            if score_1 >= score_2:\n",
    "                x.append(1)\n",
    "            else:\n",
    "                x.append(0)\n",
    "        elif score_1 >= score_2:\n",
    "            win_1 += 1\n",
    "        x.append(win_1)\n",
    "    x_mean.append(win_1 / len(x))\n",
    "    for i in range(1,1001):\n",
    "        x[i] = x[i]/i\n",
    "print(min(x_mean)*1.)\n",
    "print(max(x_mean)*1.)\n",
    "\n",
    "plt.hist(x_mean)\n",
    "plt.xlabel('probability to win the game for player 1')\n",
    "plt.ylabel('the number of winning game in 1000 games')\n",
    "plt.title('The distribution of winning the game using strategy C_50')"
   ]
  },
  {
   "cell_type": "code",
   "execution_count": 8,
   "metadata": {
    "collapsed": false
   },
   "outputs": [
    {
     "name": "stdout",
     "output_type": "stream",
     "text": [
      "end\n"
     ]
    },
    {
     "name": "stdout",
     "output_type": "stream",
     "text": [
      "end\n"
     ]
    },
    {
     "name": "stdout",
     "output_type": "stream",
     "text": [
      "end\n"
     ]
    },
    {
     "name": "stdout",
     "output_type": "stream",
     "text": [
      "end\n"
     ]
    },
    {
     "name": "stdout",
     "output_type": "stream",
     "text": [
      "end\n"
     ]
    },
    {
     "name": "stdout",
     "output_type": "stream",
     "text": [
      "end\n"
     ]
    },
    {
     "name": "stdout",
     "output_type": "stream",
     "text": [
      "end\n"
     ]
    },
    {
     "name": "stdout",
     "output_type": "stream",
     "text": [
      "end\n"
     ]
    },
    {
     "name": "stdout",
     "output_type": "stream",
     "text": [
      "end\n"
     ]
    },
    {
     "name": "stdout",
     "output_type": "stream",
     "text": [
      "end\n"
     ]
    },
    {
     "name": "stdout",
     "output_type": "stream",
     "text": [
      "0.508514914850852\n",
      "0.516964830351696\n"
     ]
    },
    {
     "data": {
      "image/png": "[encoded data removed]",
      "text/plain": [
       "<Figure size 432x288 with 1 Axes>"
      ]
     },
     "execution_count": 8,
     "metadata": {
      "needs_background": "light"
     },
     "output_type": "execute_result"
    }
   ],
   "source": [
    "# C_60: Player 1 would only gamble if the current score is greater or equal than M. (M = 40, 50, 60). Player 2 never gamble.\n",
    "M = 60\n",
    "x_mean = []\n",
    "for j in range(0,10):\n",
    "    x = []\n",
    "    win_1 = 0\n",
    "    for i in range(0,100000):\n",
    "        score_1 = 0\n",
    "        score_2 = 0\n",
    "        deck = [1,2,3,4,5,6,7,8,9,10,11,12,12,\n",
    "           1,2,3,4,5,6,7,8,9,10,11,12,12]\n",
    "        while len(deck) > 0:\n",
    "            item = random.choice(deck)\n",
    "            deck.remove(item)\n",
    "            roll = random.randint(1,6) + random.randint(1,6)\n",
    "            if roll >= item:\n",
    "                score_1 += item\n",
    "            elif score_1 >= M:\n",
    "                roll = random.randint(1,6) + random.randint(1,6)\n",
    "                if roll >= item:\n",
    "                    score_1 += item\n",
    "                else:\n",
    "                    score_1 -= item\n",
    "                    if score_1 < 0:\n",
    "                        score_1 = 0\n",
    "            item = random.choice(deck)\n",
    "            deck.remove(item)\n",
    "            roll = random.randint(1,6) + random.randint(1,6)\n",
    "            if roll >= item:\n",
    "                score_2 += item\n",
    "        if i == 0:\n",
    "            if score_1 >= score_2:\n",
    "                x.append(1)\n",
    "            else:\n",
    "                x.append(0)\n",
    "        elif score_1 >= score_2:\n",
    "            win_1 += 1\n",
    "        x.append(win_1)\n",
    "    x_mean.append(win_1 / len(x))\n",
    "    for i in range(1,100001):\n",
    "        x[i] = x[i]/i\n",
    "    print(\"end\")\n",
    "    plt.plot(range(0,100001),x)\n",
    "plt.ylim([0.45, 0.55])\n",
    "plt.xlabel('number of games')\n",
    "plt.ylabel('probability to win the game for player 1')\n",
    "plt.title('Probability to win the game for player 1 using strategy C_60')\n",
    "print(min(x_mean)*1.)\n",
    "print(max(x_mean)*1.)"
   ]
  },
  {
   "cell_type": "code",
   "execution_count": 4,
   "metadata": {
    "collapsed": false
   },
   "outputs": [
    {
     "name": "stdout",
     "output_type": "stream",
     "text": [
      "end\n"
     ]
    },
    {
     "name": "stdout",
     "output_type": "stream",
     "text": [
      "end\n"
     ]
    },
    {
     "name": "stdout",
     "output_type": "stream",
     "text": [
      "end\n"
     ]
    },
    {
     "name": "stdout",
     "output_type": "stream",
     "text": [
      "end\n"
     ]
    },
    {
     "name": "stdout",
     "output_type": "stream",
     "text": [
      "end\n"
     ]
    },
    {
     "name": "stdout",
     "output_type": "stream",
     "text": [
      "end\n"
     ]
    },
    {
     "name": "stdout",
     "output_type": "stream",
     "text": [
      "end\n"
     ]
    },
    {
     "name": "stdout",
     "output_type": "stream",
     "text": [
      "end\n"
     ]
    },
    {
     "name": "stdout",
     "output_type": "stream",
     "text": [
      "end\n"
     ]
    },
    {
     "name": "stdout",
     "output_type": "stream",
     "text": [
      "end\n"
     ]
    },
    {
     "data": {
      "text/plain": [
       "Text(0.5, 1.0, 'Probability to win the game for player 1 using strategy D_6')"
      ]
     },
     "execution_count": 4,
     "metadata": {
     },
     "output_type": "execute_result"
    },
    {
     "data": {
      "image/png": "[encoded data removed]",
      "text/plain": [
       "<Figure size 432x288 with 1 Axes>"
      ]
     },
     "execution_count": 4,
     "metadata": {
      "needs_background": "light"
     },
     "output_type": "execute_result"
    }
   ],
   "source": [
    "# D_6: Player 1 would only gamble if the number on the card is less than or equal to M. (M = 6, 7, 8). Player 2 never gamble.\n",
    "M = 6\n",
    "for j in range(0,10):\n",
    "    x = []\n",
    "    win_1 = 0\n",
    "    for i in range(0,100000):\n",
    "        score_1 = 0\n",
    "        score_2 = 0\n",
    "        deck = [1,2,3,4,5,6,7,8,9,10,11,12,12,\n",
    "           1,2,3,4,5,6,7,8,9,10,11,12,12]\n",
    "        while len(deck) > 0:\n",
    "            item = random.choice(deck)\n",
    "            deck.remove(item)\n",
    "            roll = random.randint(1,6) + random.randint(1,6)\n",
    "            if roll >= item:\n",
    "                score_1 += item\n",
    "            elif score_1 <= M:\n",
    "                roll = random.randint(1,6) + random.randint(1,6)\n",
    "                if roll >= item:\n",
    "                    score_1 += item\n",
    "                else:\n",
    "                    score_1 -= item\n",
    "                    if score_1 < 0:\n",
    "                        score_1 = 0\n",
    "            item = random.choice(deck)\n",
    "            deck.remove(item)\n",
    "            roll = random.randint(1,6) + random.randint(1,6)\n",
    "            if roll >= item:\n",
    "                score_2 += item\n",
    "        if i == 0:\n",
    "            if score_1 >= score_2:\n",
    "                x.append(1)\n",
    "            else:\n",
    "                x.append(0)\n",
    "        elif score_1 >= score_2:\n",
    "            win_1 += 1\n",
    "        x.append(win_1)\n",
    "\n",
    "    for i in range(1,100001):\n",
    "        x[i] = x[i]/i\n",
    "    print(\"end\")\n",
    "    plt.plot(range(0,100001),x)\n",
    "plt.ylim([0.51, 0.575])\n",
    "plt.xlabel('number of games')\n",
    "plt.ylabel('probability to win the game for player 1')\n",
    "plt.title('Probability to win the game for player 1 using strategy D_6')"
   ]
  },
  {
   "cell_type": "code",
   "execution_count": 34,
   "metadata": {
    "collapsed": false
   },
   "outputs": [
    {
     "name": "stdout",
     "output_type": "stream",
     "text": [
      "end\n"
     ]
    },
    {
     "name": "stdout",
     "output_type": "stream",
     "text": [
      "end\n"
     ]
    },
    {
     "name": "stdout",
     "output_type": "stream",
     "text": [
      "end\n"
     ]
    },
    {
     "name": "stdout",
     "output_type": "stream",
     "text": [
      "end\n"
     ]
    },
    {
     "name": "stdout",
     "output_type": "stream",
     "text": [
      "end\n"
     ]
    },
    {
     "name": "stdout",
     "output_type": "stream",
     "text": [
      "end\n"
     ]
    },
    {
     "name": "stdout",
     "output_type": "stream",
     "text": [
      "end\n"
     ]
    },
    {
     "name": "stdout",
     "output_type": "stream",
     "text": [
      "end\n"
     ]
    },
    {
     "name": "stdout",
     "output_type": "stream",
     "text": [
      "end\n"
     ]
    },
    {
     "name": "stdout",
     "output_type": "stream",
     "text": [
      "end\n"
     ]
    },
    {
     "name": "stdout",
     "output_type": "stream",
     "text": [
      "0.539844601553985\n",
      "0.539314606853932\n",
      "0.539554604453955\n",
      "0.538474615253847\n",
      "0.539924600753993\n",
      "0.541054589454105\n",
      "0.541004589954101\n",
      "0.539844601553985\n",
      "0.539554604453955\n",
      "0.539414605853941\n"
     ]
    },
    {
     "data": {
      "text/plain": [
       "<function end at 0x7f215c111790>"
      ]
     },
     "execution_count": 34,
     "metadata": {
     },
     "output_type": "execute_result"
    },
    {
     "data": {
      "image/png": "[encoded data removed]",
      "text/plain": [
       "<Figure size 432x288 with 1 Axes>"
      ]
     },
     "execution_count": 34,
     "metadata": {
      "needs_background": "light"
     },
     "output_type": "execute_result"
    }
   ],
   "source": [
    "# D_7: Player 1 would only gamble if the number on the card is less than or equal to M. (M = 6, 7, 8). Player 2 never gamble.\n",
    "M = 7\n",
    "x_mean = []\n",
    "for j in range(0,10):\n",
    "    x = []\n",
    "    win_1 = 0\n",
    "    for i in range(0,100000):\n",
    "        score_1 = 0\n",
    "        score_2 = 0\n",
    "        deck = [1,2,3,4,5,6,7,8,9,10,11,12,12,\n",
    "           1,2,3,4,5,6,7,8,9,10,11,12,12]\n",
    "        while len(deck) > 0:\n",
    "            item = random.choice(deck)\n",
    "            deck.remove(item)\n",
    "            roll = random.randint(1,6) + random.randint(1,6)\n",
    "            if roll >= item:\n",
    "                score_1 += item\n",
    "            elif score_1 <= M:\n",
    "                roll = random.randint(1,6) + random.randint(1,6)\n",
    "                if roll >= item:\n",
    "                    score_1 += item\n",
    "                else:\n",
    "                    score_1 -= item\n",
    "                    if score_1 < 0:\n",
    "                        score_1 = 0\n",
    "            item = random.choice(deck)\n",
    "            deck.remove(item)\n",
    "            roll = random.randint(1,6) + random.randint(1,6)\n",
    "            if roll >= item:\n",
    "                score_2 += item\n",
    "        if i == 0:\n",
    "            if score_1 >= score_2:\n",
    "                x.append(1)\n",
    "            else:\n",
    "                x.append(0)\n",
    "        elif score_1 >= score_2:\n",
    "            win_1 += 1\n",
    "        x.append(win_1)\n",
    "    x_mean.append(win_1 / len(x))\n",
    "    for i in range(1,100001):\n",
    "        x[i] = x[i]/i\n",
    "    print(\"end\")\n",
    "    plt.plot(range(0,100001),x)\n",
    "plt.ylim([0.51, 0.575])\n",
    "plt.xlabel('number of games')\n",
    "plt.ylabel('probability to win the game for player 1')\n",
    "plt.title('Probability to win the game for player 1 using strategy D_7')\n",
    "\n",
    "for i in range(0, len(x_mean)):\n",
    "    print(x_mean[i]*1.)\n",
    "end"
   ]
  },
  {
   "cell_type": "code",
   "execution_count": 33,
   "metadata": {
    "collapsed": false
   },
   "outputs": [
    {
     "name": "stdout",
     "output_type": "stream",
     "text": [
      "0.517482517482518\n",
      "0.534465534465534\n",
      "0.576423576423576\n",
      "0.549450549450549\n",
      "0.538461538461538\n",
      "0.556443556443556\n",
      "0.530469530469530\n",
      "0.550449550449550\n",
      "0.520479520479521\n",
      "0.544455544455544\n",
      "0.533466533466533\n",
      "0.545454545454545\n",
      "0.547452547452547\n",
      "0.544455544455544\n",
      "0.512487512487512\n",
      "0.541458541458541\n",
      "0.552447552447552\n",
      "0.525474525474525\n",
      "0.551448551448551\n",
      "0.523476523476524\n",
      "0.533466533466533\n",
      "0.485514485514486\n",
      "0.531468531468531\n",
      "0.551448551448551\n",
      "0.530469530469530\n",
      "0.523476523476524\n",
      "0.565434565434565\n",
      "0.531468531468531\n",
      "0.559440559440559\n",
      "0.520479520479521\n",
      "0.549450549450549\n",
      "0.530469530469530\n",
      "0.555444555444555\n",
      "0.525474525474525\n",
      "0.566433566433566\n",
      "0.545454545454545\n",
      "0.541458541458541\n",
      "0.559440559440559\n",
      "0.567432567432567\n",
      "0.580419580419580\n",
      "0.561438561438561\n",
      "0.543456543456543\n",
      "0.540459540459540\n",
      "0.508491508491508\n",
      "0.499500499500500\n",
      "0.551448551448551\n",
      "0.552447552447552\n",
      "0.528471528471528\n",
      "0.534465534465534\n",
      "0.535464535464535\n",
      "0.505494505494505\n",
      "0.542457542457542\n",
      "0.541458541458541\n",
      "0.529470529470529\n",
      "0.539460539460540\n",
      "0.551448551448551\n",
      "0.528471528471528\n",
      "0.527472527472527\n",
      "0.529470529470529\n",
      "0.547452547452547\n",
      "0.539460539460540\n",
      "0.547452547452547\n",
      "0.544455544455544\n",
      "0.551448551448551\n",
      "0.540459540459540\n",
      "0.549450549450549\n",
      "0.530469530469530\n",
      "0.570429570429570\n",
      "0.535464535464535\n",
      "0.522477522477522\n",
      "0.568431568431568\n",
      "0.528471528471528\n",
      "0.517482517482518\n",
      "0.537462537462537\n",
      "0.508491508491508\n",
      "0.549450549450549\n",
      "0.568431568431568\n",
      "0.554445554445554\n",
      "0.540459540459540\n",
      "0.528471528471528\n",
      "0.558441558441558\n",
      "0.583416583416583\n",
      "0.542457542457542\n",
      "0.521478521478521\n",
      "0.564435564435564\n",
      "0.552447552447552\n",
      "0.525474525474525\n",
      "0.546453546453546\n",
      "0.533466533466533\n",
      "0.552447552447552\n",
      "0.534465534465534\n",
      "0.539460539460540\n",
      "0.540459540459540\n",
      "0.532467532467532\n",
      "0.561438561438561\n",
      "0.522477522477522\n",
      "0.545454545454545\n",
      "0.541458541458541\n",
      "0.546453546453546\n",
      "0.550449550449550\n",
      "0.535464535464535\n",
      "0.533466533466533\n",
      "0.540459540459540\n",
      "0.531468531468531\n",
      "0.550449550449550\n",
      "0.534465534465534\n",
      "0.528471528471528\n",
      "0.546453546453546\n",
      "0.536463536463537\n",
      "0.538461538461538\n",
      "0.552447552447552\n",
      "0.545454545454545\n",
      "0.538461538461538\n",
      "0.531468531468531\n",
      "0.515484515484515\n",
      "0.542457542457542\n",
      "0.516483516483517\n",
      "0.544455544455544\n",
      "0.552447552447552\n",
      "0.520479520479521\n",
      "0.545454545454545\n",
      "0.536463536463537\n",
      "0.561438561438561\n",
      "0.487512487512487\n",
      "0.543456543456543\n",
      "0.564435564435564\n",
      "0.518481518481518\n",
      "0.531468531468531\n",
      "0.549450549450549\n",
      "0.520479520479521\n",
      "0.523476523476524\n",
      "0.561438561438561\n",
      "0.539460539460540\n",
      "0.530469530469530\n",
      "0.553446553446553\n",
      "0.534465534465534\n",
      "0.515484515484515\n",
      "0.539460539460540\n",
      "0.547452547452547\n",
      "0.526473526473527\n",
      "0.529470529470529\n",
      "0.561438561438561\n",
      "0.533466533466533\n",
      "0.548451548451548\n",
      "0.513486513486514\n",
      "0.548451548451548\n",
      "0.529470529470529\n",
      "0.534465534465534\n",
      "0.512487512487512\n",
      "0.534465534465534\n",
      "0.542457542457542\n",
      "0.532467532467532\n",
      "0.538461538461538\n",
      "0.541458541458541\n",
      "0.537462537462537\n",
      "0.529470529470529\n",
      "0.535464535464535\n",
      "0.539460539460540\n",
      "0.517482517482518\n",
      "0.520479520479521\n",
      "0.527472527472527\n",
      "0.522477522477522\n",
      "0.536463536463537\n",
      "0.537462537462537\n",
      "0.553446553446553\n",
      "0.534465534465534\n",
      "0.542457542457542\n",
      "0.533466533466533\n",
      "0.524475524475524\n",
      "0.533466533466533\n",
      "0.522477522477522\n",
      "0.546453546453546\n",
      "0.540459540459540\n",
      "0.535464535464535\n",
      "0.523476523476524\n",
      "0.564435564435564\n",
      "0.543456543456543\n",
      "0.544455544455544\n",
      "0.545454545454545\n",
      "0.541458541458541\n",
      "0.533466533466533\n",
      "0.532467532467532\n",
      "0.546453546453546\n",
      "0.535464535464535\n",
      "0.537462537462537\n",
      "0.530469530469530\n",
      "0.510489510489511\n",
      "0.554445554445554\n",
      "0.560439560439560\n",
      "0.535464535464535\n",
      "0.553446553446553\n",
      "0.560439560439560\n",
      "0.513486513486514\n",
      "0.513486513486514\n",
      "0.518481518481518\n",
      "0.551448551448551\n",
      "0.547452547452547\n",
      "0.538461538461538\n",
      "0.523476523476524\n",
      "0.522477522477522\n",
      "0.549450549450549\n",
      "0.534465534465534\n",
      "0.554445554445554\n",
      "0.568431568431568\n",
      "0.537462537462537\n",
      "0.549450549450549\n",
      "0.550449550449550\n",
      "0.549450549450549\n",
      "0.531468531468531\n",
      "0.548451548451548\n",
      "0.534465534465534\n",
      "0.574425574425574\n",
      "0.547452547452547\n",
      "0.535464535464535\n",
      "0.540459540459540\n",
      "0.562437562437562\n",
      "0.545454545454545\n",
      "0.557442557442557\n",
      "0.556443556443556\n",
      "0.540459540459540\n",
      "0.546453546453546\n",
      "0.538461538461538\n",
      "0.536463536463537\n",
      "0.536463536463537\n",
      "0.501498501498502\n",
      "0.507492507492508\n",
      "0.548451548451548\n",
      "0.536463536463537\n",
      "0.531468531468531\n",
      "0.568431568431568\n",
      "0.560439560439560\n",
      "0.552447552447552\n",
      "0.558441558441558\n",
      "0.539460539460540\n",
      "0.538461538461538\n",
      "0.559440559440559\n",
      "0.540459540459540\n",
      "0.584415584415584\n",
      "0.535464535464535\n",
      "0.535464535464535\n",
      "0.519480519480519\n",
      "0.538461538461538\n",
      "0.549450549450549\n",
      "0.525474525474525\n",
      "0.544455544455544\n",
      "0.496503496503497\n",
      "0.509490509490509\n",
      "0.517482517482518\n",
      "0.543456543456543\n",
      "0.558441558441558\n",
      "0.541458541458541\n",
      "0.551448551448551\n",
      "0.525474525474525\n",
      "0.561438561438561\n",
      "0.516483516483517\n",
      "0.528471528471528\n",
      "0.530469530469530\n",
      "0.556443556443556\n",
      "0.550449550449550\n",
      "0.529470529470529\n",
      "0.551448551448551\n",
      "0.535464535464535\n",
      "0.528471528471528\n",
      "0.543456543456543\n",
      "0.529470529470529\n",
      "0.566433566433566\n",
      "0.540459540459540\n",
      "0.532467532467532\n",
      "0.522477522477522\n",
      "0.534465534465534\n",
      "0.536463536463537\n",
      "0.517482517482518\n",
      "0.521478521478521\n",
      "0.532467532467532\n",
      "0.554445554445554\n",
      "0.540459540459540\n",
      "0.526473526473527\n",
      "0.543456543456543\n",
      "0.573426573426573\n",
      "0.548451548451548\n",
      "0.538461538461538\n",
      "0.520479520479521\n",
      "0.533466533466533\n",
      "0.535464535464535\n",
      "0.543456543456543\n",
      "0.577422577422577\n",
      "0.528471528471528\n",
      "0.552447552447552\n",
      "0.524475524475524\n",
      "0.549450549450549\n",
      "0.548451548451548\n",
      "0.533466533466533\n",
      "0.520479520479521\n",
      "0.538461538461538\n",
      "0.527472527472527\n",
      "0.559440559440559\n",
      "0.571428571428571\n",
      "0.572427572427572\n",
      "0.530469530469530\n",
      "0.524475524475524\n",
      "0.555444555444555\n",
      "0.552447552447552\n",
      "0.551448551448551\n",
      "0.546453546453546\n",
      "0.545454545454545\n",
      "0.537462537462537\n",
      "0.545454545454545\n",
      "0.522477522477522\n",
      "0.508491508491508\n",
      "0.520479520479521\n",
      "0.502497502497502\n",
      "0.538461538461538\n",
      "0.547452547452547\n",
      "0.534465534465534\n",
      "0.539460539460540\n",
      "0.525474525474525\n",
      "0.517482517482518\n",
      "0.539460539460540\n",
      "0.527472527472527\n",
      "0.555444555444555\n",
      "0.507492507492508\n",
      "0.527472527472527\n",
      "0.546453546453546\n",
      "0.546453546453546\n",
      "0.561438561438561\n",
      "0.582417582417582\n",
      "0.543456543456543\n",
      "0.558441558441558\n",
      "0.510489510489511\n",
      "0.536463536463537\n",
      "0.513486513486514\n",
      "0.523476523476524\n",
      "0.529470529470529\n",
      "0.557442557442557\n",
      "0.573426573426573\n",
      "0.538461538461538\n",
      "0.540459540459540\n",
      "0.580419580419580\n",
      "0.531468531468531\n",
      "0.539460539460540\n",
      "0.526473526473527\n",
      "0.524475524475524\n",
      "0.533466533466533\n",
      "0.521478521478521\n",
      "0.546453546453546\n",
      "0.538461538461538\n",
      "0.532467532467532\n",
      "0.562437562437562\n",
      "0.561438561438561\n",
      "0.579420579420579\n",
      "0.539460539460540\n",
      "0.523476523476524\n",
      "0.559440559440559\n",
      "0.512487512487512\n",
      "0.546453546453546\n",
      "0.523476523476524\n",
      "0.526473526473527\n",
      "0.536463536463537\n",
      "0.521478521478521\n",
      "0.524475524475524\n",
      "0.548451548451548\n",
      "0.528471528471528\n",
      "0.539460539460540\n",
      "0.550449550449550\n",
      "0.545454545454545\n",
      "0.525474525474525\n",
      "0.546453546453546\n",
      "0.523476523476524\n",
      "0.561438561438561\n",
      "0.534465534465534\n",
      "0.523476523476524\n",
      "0.564435564435564\n",
      "0.543456543456543\n",
      "0.530469530469530\n",
      "0.512487512487512\n",
      "0.525474525474525\n",
      "0.534465534465534\n",
      "0.537462537462537\n",
      "0.492507492507492\n",
      "0.559440559440559\n",
      "0.542457542457542\n",
      "0.534465534465534\n",
      "0.572427572427572\n",
      "0.544455544455544\n",
      "0.523476523476524\n",
      "0.495504495504495\n",
      "0.533466533466533\n",
      "0.546453546453546\n",
      "0.529470529470529\n",
      "0.543456543456543\n",
      "0.530469530469530\n",
      "0.540459540459540\n",
      "0.551448551448551\n",
      "0.520479520479521\n",
      "0.551448551448551\n",
      "0.514485514485514\n",
      "0.555444555444555\n",
      "0.531468531468531\n",
      "0.542457542457542\n",
      "0.563436563436563\n",
      "0.546453546453546\n",
      "0.539460539460540\n",
      "0.555444555444555\n",
      "0.540459540459540\n",
      "0.534465534465534\n",
      "0.535464535464535\n",
      "0.509490509490509\n",
      "0.525474525474525\n",
      "0.554445554445554\n",
      "0.544455544455544\n",
      "0.511488511488511\n",
      "0.524475524475524\n",
      "0.540459540459540\n",
      "0.535464535464535\n",
      "0.559440559440559\n",
      "0.544455544455544\n",
      "0.570429570429570\n",
      "0.567432567432567\n",
      "0.549450549450549\n",
      "0.557442557442557\n",
      "0.544455544455544\n",
      "0.538461538461538\n",
      "0.532467532467532\n",
      "0.543456543456543\n",
      "0.581418581418581\n",
      "0.537462537462537\n",
      "0.518481518481518\n",
      "0.533466533466533\n",
      "0.540459540459540\n",
      "0.563436563436563\n",
      "0.562437562437562\n",
      "0.545454545454545\n",
      "0.525474525474525\n",
      "0.563436563436563\n",
      "0.539460539460540\n",
      "0.550449550449550\n",
      "0.548451548451548\n",
      "0.544455544455544\n",
      "0.555444555444555\n",
      "0.539460539460540\n",
      "0.526473526473527\n",
      "0.525474525474525\n",
      "0.533466533466533\n",
      "0.563436563436563\n",
      "0.519480519480519\n",
      "0.533466533466533\n",
      "0.575424575424575\n",
      "0.549450549450549\n",
      "0.520479520479521\n",
      "0.539460539460540\n",
      "0.564435564435564\n",
      "0.532467532467532\n",
      "0.528471528471528\n",
      "0.571428571428571\n",
      "0.506493506493506\n",
      "0.541458541458541\n",
      "0.544455544455544\n",
      "0.543456543456543\n",
      "0.538461538461538\n",
      "0.534465534465534\n",
      "0.534465534465534\n",
      "0.541458541458541\n",
      "0.551448551448551\n",
      "0.563436563436563\n",
      "0.534465534465534\n",
      "0.521478521478521\n",
      "0.538461538461538\n",
      "0.547452547452547\n",
      "0.580419580419580\n",
      "0.541458541458541\n",
      "0.546453546453546\n",
      "0.546453546453546\n",
      "0.535464535464535\n",
      "0.529470529470529\n",
      "0.530469530469530\n",
      "0.537462537462537\n",
      "0.551448551448551\n",
      "0.546453546453546\n",
      "0.544455544455544\n",
      "0.540459540459540\n",
      "0.518481518481518\n",
      "0.527472527472527\n",
      "0.537462537462537\n",
      "0.523476523476524\n",
      "0.532467532467532\n",
      "0.541458541458541\n",
      "0.533466533466533\n",
      "0.527472527472527\n",
      "0.540459540459540\n",
      "0.560439560439560\n",
      "0.538461538461538\n",
      "0.535464535464535\n",
      "0.556443556443556\n",
      "0.554445554445554\n",
      "0.496503496503497\n",
      "0.553446553446553\n",
      "0.534465534465534\n",
      "0.557442557442557\n",
      "0.553446553446553\n",
      "0.545454545454545\n",
      "0.575424575424575\n",
      "0.534465534465534\n",
      "0.518481518481518\n",
      "0.553446553446553\n",
      "0.538461538461538\n",
      "0.547452547452547\n",
      "0.523476523476524\n",
      "0.541458541458541\n",
      "0.538461538461538\n",
      "0.523476523476524\n",
      "0.519480519480519\n",
      "0.531468531468531\n",
      "0.543456543456543\n",
      "0.554445554445554\n",
      "0.560439560439560\n",
      "0.526473526473527\n",
      "0.547452547452547\n",
      "0.558441558441558\n",
      "0.537462537462537\n",
      "0.565434565434565\n",
      "0.537462537462537\n",
      "0.537462537462537\n",
      "0.546453546453546\n",
      "0.523476523476524\n",
      "0.545454545454545\n",
      "0.538461538461538\n",
      "0.544455544455544\n",
      "0.509490509490509\n",
      "0.531468531468531\n",
      "0.538461538461538\n",
      "0.544455544455544\n",
      "0.497502497502497\n",
      "0.545454545454545\n",
      "0.508491508491508\n",
      "0.530469530469530\n",
      "0.531468531468531\n",
      "0.535464535464535\n",
      "0.525474525474525\n",
      "0.514485514485514\n",
      "0.573426573426573\n",
      "0.548451548451548\n",
      "0.512487512487512\n",
      "0.529470529470529\n",
      "0.534465534465534\n",
      "0.547452547452547\n",
      "0.500499500499501\n",
      "0.522477522477522\n",
      "0.553446553446553\n",
      "0.556443556443556\n",
      "0.548451548451548\n",
      "0.532467532467532\n",
      "0.535464535464535\n",
      "0.523476523476524\n",
      "0.539460539460540\n",
      "0.548451548451548\n",
      "0.572427572427572\n",
      "0.531468531468531\n",
      "0.545454545454545\n",
      "0.530469530469530\n",
      "0.555444555444555\n",
      "0.529470529470529\n",
      "0.548451548451548\n",
      "0.540459540459540\n",
      "0.525474525474525\n",
      "0.522477522477522\n",
      "0.542457542457542\n",
      "0.560439560439560\n",
      "0.537462537462537\n",
      "0.539460539460540\n",
      "0.527472527472527\n",
      "0.515484515484515\n",
      "0.527472527472527\n",
      "0.537462537462537\n",
      "0.546453546453546\n",
      "0.532467532467532\n",
      "0.540459540459540\n",
      "0.527472527472527\n",
      "0.529470529470529\n",
      "0.546453546453546\n",
      "0.521478521478521\n",
      "0.515484515484515\n",
      "0.510489510489511\n",
      "0.518481518481518\n",
      "0.528471528471528\n",
      "0.541458541458541\n",
      "0.512487512487512\n",
      "0.543456543456543\n",
      "0.524475524475524\n",
      "0.562437562437562\n",
      "0.521478521478521\n",
      "0.502497502497502\n",
      "0.532467532467532\n",
      "0.526473526473527\n",
      "0.538461538461538\n",
      "0.520479520479521\n",
      "0.520479520479521\n",
      "0.531468531468531\n",
      "0.557442557442557\n",
      "0.555444555444555\n",
      "0.529470529470529\n",
      "0.553446553446553\n",
      "0.560439560439560\n",
      "0.546453546453546\n",
      "0.546453546453546\n",
      "0.543456543456543\n",
      "0.560439560439560\n",
      "0.543456543456543\n",
      "0.530469530469530\n",
      "0.527472527472527\n",
      "0.524475524475524\n",
      "0.523476523476524\n",
      "0.521478521478521\n",
      "0.539460539460540\n",
      "0.550449550449550\n",
      "0.516483516483517\n",
      "0.535464535464535\n",
      "0.564435564435564\n",
      "0.527472527472527\n",
      "0.522477522477522\n",
      "0.512487512487512\n",
      "0.534465534465534\n",
      "0.518481518481518\n",
      "0.495504495504495\n",
      "0.542457542457542\n",
      "0.534465534465534\n",
      "0.548451548451548\n",
      "0.510489510489511\n",
      "0.561438561438561\n",
      "0.532467532467532\n",
      "0.542457542457542\n",
      "0.556443556443556\n",
      "0.550449550449550\n",
      "0.541458541458541\n",
      "0.535464535464535\n",
      "0.539460539460540\n",
      "0.559440559440559\n",
      "0.540459540459540\n",
      "0.557442557442557\n",
      "0.544455544455544\n",
      "0.547452547452547\n",
      "0.516483516483517\n",
      "0.553446553446553\n",
      "0.557442557442557\n",
      "0.527472527472527\n",
      "0.511488511488511\n",
      "0.529470529470529\n",
      "0.545454545454545\n",
      "0.543456543456543\n",
      "0.562437562437562\n",
      "0.558441558441558\n",
      "0.529470529470529\n",
      "0.531468531468531\n",
      "0.537462537462537\n",
      "0.537462537462537\n",
      "0.556443556443556\n",
      "0.538461538461538\n",
      "0.531468531468531\n",
      "0.526473526473527\n",
      "0.566433566433566\n",
      "0.550449550449550\n",
      "0.575424575424575\n",
      "0.511488511488511\n",
      "0.543456543456543\n",
      "0.559440559440559\n",
      "0.555444555444555\n",
      "0.552447552447552\n",
      "0.536463536463537\n",
      "0.554445554445554\n",
      "0.548451548451548\n",
      "0.536463536463537\n",
      "0.541458541458541\n",
      "0.547452547452547\n",
      "0.522477522477522\n",
      "0.557442557442557\n",
      "0.550449550449550\n",
      "0.559440559440559\n",
      "0.534465534465534\n",
      "0.531468531468531\n",
      "0.548451548451548\n",
      "0.542457542457542\n",
      "0.524475524475524\n",
      "0.539460539460540\n",
      "0.534465534465534\n",
      "0.554445554445554\n",
      "0.551448551448551\n",
      "0.563436563436563\n",
      "0.536463536463537\n",
      "0.522477522477522\n",
      "0.548451548451548\n",
      "0.552447552447552\n",
      "0.542457542457542\n",
      "0.528471528471528\n",
      "0.540459540459540\n",
      "0.526473526473527\n",
      "0.544455544455544\n",
      "0.538461538461538\n",
      "0.532467532467532\n",
      "0.528471528471528\n",
      "0.536463536463537\n",
      "0.535464535464535\n",
      "0.515484515484515\n",
      "0.543456543456543\n",
      "0.540459540459540\n",
      "0.547452547452547\n",
      "0.547452547452547\n",
      "0.539460539460540\n",
      "0.521478521478521\n",
      "0.561438561438561\n",
      "0.522477522477522\n",
      "0.569430569430569\n",
      "0.542457542457542\n",
      "0.535464535464535\n",
      "0.553446553446553\n",
      "0.527472527472527\n",
      "0.547452547452547\n",
      "0.512487512487512\n",
      "0.559440559440559\n",
      "0.548451548451548\n",
      "0.564435564435564\n",
      "0.533466533466533\n",
      "0.535464535464535\n",
      "0.555444555444555\n",
      "0.514485514485514\n",
      "0.527472527472527\n",
      "0.542457542457542\n",
      "0.538461538461538\n",
      "0.525474525474525\n",
      "0.544455544455544\n",
      "0.539460539460540\n",
      "0.511488511488511\n",
      "0.538461538461538\n",
      "0.567432567432567\n",
      "0.540459540459540\n",
      "0.515484515484515\n",
      "0.553446553446553\n",
      "0.527472527472527\n",
      "0.541458541458541\n",
      "0.547452547452547\n",
      "0.550449550449550\n",
      "0.526473526473527\n",
      "0.531468531468531\n",
      "0.558441558441558\n",
      "0.564435564435564\n",
      "0.542457542457542\n",
      "0.537462537462537\n",
      "0.556443556443556\n",
      "0.547452547452547\n",
      "0.552447552447552\n",
      "0.541458541458541\n",
      "0.525474525474525\n",
      "0.523476523476524\n",
      "0.553446553446553\n",
      "0.531468531468531\n",
      "0.540459540459540\n",
      "0.550449550449550\n",
      "0.543456543456543\n",
      "0.526473526473527\n",
      "0.513486513486514\n",
      "0.550449550449550\n",
      "0.551448551448551\n",
      "0.568431568431568\n",
      "0.535464535464535\n",
      "0.573426573426573\n",
      "0.538461538461538\n",
      "0.524475524475524\n",
      "0.543456543456543\n",
      "0.509490509490509\n",
      "0.547452547452547\n",
      "0.567432567432567\n",
      "0.548451548451548\n",
      "0.526473526473527\n",
      "0.540459540459540\n",
      "0.538461538461538\n",
      "0.513486513486514\n",
      "0.516483516483517\n",
      "0.564435564435564\n",
      "0.541458541458541\n",
      "0.537462537462537\n",
      "0.542457542457542\n",
      "0.552447552447552\n",
      "0.556443556443556\n",
      "0.541458541458541\n",
      "0.541458541458541\n",
      "0.552447552447552\n",
      "0.536463536463537\n",
      "0.522477522477522\n",
      "0.523476523476524\n",
      "0.553446553446553\n",
      "0.553446553446553\n",
      "0.555444555444555\n",
      "0.519480519480519\n",
      "0.521478521478521\n",
      "0.534465534465534\n",
      "0.546453546453546\n",
      "0.525474525474525\n",
      "0.549450549450549\n",
      "0.549450549450549\n",
      "0.528471528471528\n",
      "0.528471528471528\n",
      "0.554445554445554\n",
      "0.528471528471528\n",
      "0.542457542457542\n",
      "0.565434565434565\n",
      "0.533466533466533\n",
      "0.553446553446553\n",
      "0.539460539460540\n",
      "0.531468531468531\n",
      "0.531468531468531\n",
      "0.542457542457542\n",
      "0.549450549450549\n",
      "0.545454545454545\n",
      "0.523476523476524\n",
      "0.505494505494505\n",
      "0.519480519480519\n",
      "0.560439560439560\n",
      "0.531468531468531\n",
      "0.529470529470529\n",
      "0.524475524475524\n",
      "0.540459540459540\n",
      "0.530469530469530\n",
      "0.560439560439560\n",
      "0.529470529470529\n",
      "0.545454545454545\n",
      "0.546453546453546\n",
      "0.502497502497502\n",
      "0.543456543456543\n",
      "0.538461538461538\n",
      "0.514485514485514\n",
      "0.554445554445554\n",
      "0.532467532467532\n",
      "0.548451548451548\n",
      "0.534465534465534\n",
      "0.552447552447552\n",
      "0.548451548451548\n",
      "0.527472527472527\n",
      "0.537462537462537\n",
      "0.558441558441558\n",
      "0.546453546453546\n",
      "0.538461538461538\n",
      "0.508491508491508\n",
      "0.552447552447552\n",
      "0.547452547452547\n",
      "0.559440559440559\n",
      "0.560439560439560\n",
      "0.562437562437562\n",
      "0.538461538461538\n",
      "0.545454545454545\n",
      "0.525474525474525\n",
      "0.542457542457542\n",
      "0.568431568431568\n",
      "0.565434565434565\n",
      "0.533466533466533\n",
      "0.549450549450549\n",
      "0.521478521478521\n",
      "0.545454545454545\n",
      "0.525474525474525\n",
      "0.547452547452547\n",
      "0.536463536463537\n",
      "0.552447552447552\n",
      "0.526473526473527\n",
      "0.557442557442557\n",
      "0.515484515484515\n",
      "0.511488511488511\n",
      "0.564435564435564\n",
      "0.529470529470529\n",
      "0.557442557442557\n",
      "0.557442557442557\n",
      "0.541458541458541\n",
      "0.511488511488511\n",
      "0.545454545454545\n",
      "0.514485514485514\n",
      "0.513486513486514\n",
      "0.509490509490509\n",
      "0.529470529470529\n",
      "0.563436563436563\n",
      "0.554445554445554\n",
      "0.566433566433566\n",
      "0.510489510489511\n",
      "0.527472527472527\n",
      "0.526473526473527\n",
      "0.533466533466533\n",
      "0.500499500499501\n",
      "0.506493506493506\n",
      "0.557442557442557\n",
      "0.567432567432567\n",
      "0.529470529470529\n",
      "0.556443556443556\n",
      "0.540459540459540\n",
      "0.543456543456543\n",
      "0.574425574425574\n",
      "0.546453546453546\n",
      "0.525474525474525\n",
      "0.520479520479521\n",
      "0.534465534465534\n",
      "0.566433566433566\n",
      "0.535464535464535\n",
      "0.526473526473527\n",
      "0.554445554445554\n",
      "0.545454545454545\n",
      "0.527472527472527\n",
      "0.558441558441558\n",
      "0.534465534465534\n",
      "0.562437562437562\n",
      "0.546453546453546\n",
      "0.529470529470529\n",
      "0.553446553446553\n",
      "0.530469530469530\n",
      "0.539460539460540\n",
      "0.524475524475524\n",
      "0.549450549450549\n",
      "0.547452547452547\n",
      "0.540459540459540\n",
      "0.533466533466533\n",
      "0.554445554445554\n",
      "0.551448551448551\n",
      "0.540459540459540\n",
      "0.534465534465534\n",
      "0.540459540459540\n",
      "0.567432567432567\n",
      "0.531468531468531\n",
      "0.546453546453546\n",
      "0.543456543456543\n",
      "0.543456543456543\n",
      "0.535464535464535\n",
      "0.555444555444555\n",
      "0.549450549450549\n",
      "0.532467532467532\n",
      "0.535464535464535\n",
      "0.528471528471528\n",
      "0.583416583416583\n",
      "0.553446553446553\n",
      "0.520479520479521\n",
      "0.551448551448551\n",
      "0.534465534465534\n",
      "0.531468531468531\n",
      "0.560439560439560\n",
      "0.537462537462537\n",
      "0.550449550449550\n",
      "0.531468531468531\n",
      "0.542457542457542\n",
      "0.557442557442557\n",
      "0.507492507492508\n",
      "0.549450549450549\n",
      "0.556443556443556\n",
      "0.554445554445554\n",
      "0.531468531468531\n",
      "0.541458541458541\n",
      "0.545454545454545\n",
      "0.549450549450549\n",
      "0.552447552447552\n",
      "0.534465534465534\n",
      "0.577422577422577\n",
      "0.534465534465534\n",
      "0.553446553446553\n",
      "0.554445554445554\n",
      "0.553446553446553\n",
      "0.563436563436563\n",
      "0.567432567432567\n",
      "0.549450549450549\n",
      "0.543456543456543\n",
      "0.525474525474525\n",
      "0.531468531468531\n",
      "0.538461538461538\n",
      "0.537462537462537\n",
      "0.550449550449550\n",
      "0.511488511488511\n",
      "0.511488511488511\n",
      "0.500499500499501\n",
      "0.506493506493506\n",
      "0.540459540459540\n",
      "0.546453546453546\n",
      "0.545454545454545\n",
      "0.563436563436563\n",
      "0.538461538461538\n",
      "0.551448551448551\n",
      "0.515484515484515\n",
      "0.534465534465534\n",
      "0.517482517482518\n",
      "0.549450549450549\n",
      "0.531468531468531\n",
      "0.539460539460540\n",
      "0.564435564435564\n",
      "0.529470529470529\n",
      "0.541458541458541\n",
      "0.529470529470529\n",
      "0.523476523476524\n",
      "0.529470529470529\n",
      "0.544455544455544\n",
      "0.530469530469530\n",
      "0.565434565434565\n",
      "0.549450549450549\n",
      "0.559440559440559\n",
      "0.527472527472527\n",
      "0.520479520479521\n",
      "0.567432567432567\n",
      "0.539460539460540\n",
      "0.553446553446553\n",
      "0.511488511488511\n",
      "0.548451548451548\n",
      "0.542457542457542\n"
     ]
    },
    {
     "data": {
      "text/plain": [
       "<function end at 0x7f215c111790>"
      ]
     },
     "execution_count": 33,
     "metadata": {
     },
     "output_type": "execute_result"
    },
    {
     "data": {
      "image/png": "[encoded data removed]",
      "text/plain": [
       "<Figure size 432x288 with 1 Axes>"
      ]
     },
     "execution_count": 33,
     "metadata": {
      "needs_background": "light"
     },
     "output_type": "execute_result"
    }
   ],
   "source": [
    "# D_7: Player 1 would only gamble if the number on the card is less than or equal to M. (M = 6, 7, 8). Player 2 never gamble.\n",
    "M = 7\n",
    "x_mean = []\n",
    "for j in range(0,1000):\n",
    "    x = []\n",
    "    win_1 = 0\n",
    "    for i in range(0,1000):\n",
    "        score_1 = 0\n",
    "        score_2 = 0\n",
    "        deck = [1,2,3,4,5,6,7,8,9,10,11,12,12,\n",
    "           1,2,3,4,5,6,7,8,9,10,11,12,12]\n",
    "        while len(deck) > 0:\n",
    "            item = random.choice(deck)\n",
    "            deck.remove(item)\n",
    "            roll = random.randint(1,6) + random.randint(1,6)\n",
    "            if roll >= item:\n",
    "                score_1 += item\n",
    "            elif score_1 <= M:\n",
    "                roll = random.randint(1,6) + random.randint(1,6)\n",
    "                if roll >= item:\n",
    "                    score_1 += item\n",
    "                else:\n",
    "                    score_1 -= item\n",
    "                    if score_1 < 0:\n",
    "                        score_1 = 0\n",
    "            item = random.choice(deck)\n",
    "            deck.remove(item)\n",
    "            roll = random.randint(1,6) + random.randint(1,6)\n",
    "            if roll >= item:\n",
    "                score_2 += item\n",
    "        if i == 0:\n",
    "            if score_1 >= score_2:\n",
    "                x.append(1)\n",
    "            else:\n",
    "                x.append(0)\n",
    "        elif score_1 >= score_2:\n",
    "            win_1 += 1\n",
    "        x.append(win_1)\n",
    "    x_mean.append(win_1 / len(x))\n",
    "    for i in range(1,1001):\n",
    "        x[i] = x[i]/i\n",
    "plt.hist(x_mean)\n",
    "plt.xlabel('probability to win the game for player 1')\n",
    "plt.ylabel('the number of winning game in 1000 games')\n",
    "plt.title('The distribution of winning the game using strategy D_7')"
   ]
  },
  {
   "cell_type": "code",
   "execution_count": 22,
   "metadata": {
    "collapsed": false
   },
   "outputs": [
    {
     "name": "stdout",
     "output_type": "stream",
     "text": [
      "end\n"
     ]
    },
    {
     "name": "stdout",
     "output_type": "stream",
     "text": [
      "end\n"
     ]
    },
    {
     "name": "stdout",
     "output_type": "stream",
     "text": [
      "end\n"
     ]
    },
    {
     "name": "stdout",
     "output_type": "stream",
     "text": [
      "end\n"
     ]
    },
    {
     "name": "stdout",
     "output_type": "stream",
     "text": [
      "end\n"
     ]
    },
    {
     "name": "stdout",
     "output_type": "stream",
     "text": [
      "end\n"
     ]
    },
    {
     "name": "stdout",
     "output_type": "stream",
     "text": [
      "end\n"
     ]
    },
    {
     "name": "stdout",
     "output_type": "stream",
     "text": [
      "end\n"
     ]
    },
    {
     "name": "stdout",
     "output_type": "stream",
     "text": [
      "end\n"
     ]
    },
    {
     "name": "stdout",
     "output_type": "stream",
     "text": [
      "end\n"
     ]
    },
    {
     "data": {
      "text/plain": [
       "Text(0.5, 1.0, 'Probability to win the game for player 1 using strategy D_8')"
      ]
     },
     "execution_count": 22,
     "metadata": {
     },
     "output_type": "execute_result"
    },
    {
     "data": {
      "image/png": "[encoded data removed]",
      "text/plain": [
       "<Figure size 432x288 with 1 Axes>"
      ]
     },
     "execution_count": 22,
     "metadata": {
      "needs_background": "light"
     },
     "output_type": "execute_result"
    }
   ],
   "source": [
    "# D_8: Player 1 would only gamble if the number on the card is less than or equal to M. (M = 6, 7, 8). Player 2 never gamble.\n",
    "M = 8\n",
    "for j in range(0,10):\n",
    "    x = []\n",
    "    win_1 = 0\n",
    "    for i in range(0,100000):\n",
    "        score_1 = 0\n",
    "        score_2 = 0\n",
    "        deck = [1,2,3,4,5,6,7,8,9,10,11,12,12,\n",
    "           1,2,3,4,5,6,7,8,9,10,11,12,12]\n",
    "        while len(deck) > 0:\n",
    "            item = random.choice(deck)\n",
    "            deck.remove(item)\n",
    "            roll = random.randint(1,6) + random.randint(1,6)\n",
    "            if roll >= item:\n",
    "                score_1 += item\n",
    "            elif score_1 <= M:\n",
    "                roll = random.randint(1,6) + random.randint(1,6)\n",
    "                if roll >= item:\n",
    "                    score_1 += item\n",
    "                else:\n",
    "                    score_1 -= item\n",
    "                    if score_1 < 0:\n",
    "                        score_1 = 0\n",
    "            item = random.choice(deck)\n",
    "            deck.remove(item)\n",
    "            roll = random.randint(1,6) + random.randint(1,6)\n",
    "            if roll >= item:\n",
    "                score_2 += item\n",
    "        if i == 0:\n",
    "            if score_1 >= score_2:\n",
    "                x.append(1)\n",
    "            else:\n",
    "                x.append(0)\n",
    "        elif score_1 >= score_2:\n",
    "            win_1 += 1\n",
    "        x.append(win_1)\n",
    "\n",
    "    for i in range(1,100001):\n",
    "        x[i] = x[i]/i\n",
    "    print(\"end\")\n",
    "    plt.plot(range(0,100001),x)\n",
    "plt.ylim([0.5, 0.56])\n",
    "plt.xlabel('number of games')\n",
    "plt.ylabel('probability to win the game for player 1')\n",
    "plt.title('Probability to win the game for player 1 using strategy D_8')"
   ]
  },
  {
   "cell_type": "code",
   "execution_count": 23,
   "metadata": {
    "collapsed": false
   },
   "outputs": [
    {
     "name": "stdout",
     "output_type": "stream",
     "text": [
      "end\n"
     ]
    },
    {
     "name": "stdout",
     "output_type": "stream",
     "text": [
      "end\n"
     ]
    },
    {
     "name": "stdout",
     "output_type": "stream",
     "text": [
      "end\n"
     ]
    },
    {
     "name": "stdout",
     "output_type": "stream",
     "text": [
      "end\n"
     ]
    },
    {
     "name": "stdout",
     "output_type": "stream",
     "text": [
      "end\n"
     ]
    },
    {
     "name": "stdout",
     "output_type": "stream",
     "text": [
      "end\n"
     ]
    },
    {
     "name": "stdout",
     "output_type": "stream",
     "text": [
      "end\n"
     ]
    },
    {
     "name": "stdout",
     "output_type": "stream",
     "text": [
      "end\n"
     ]
    },
    {
     "name": "stdout",
     "output_type": "stream",
     "text": [
      "end\n"
     ]
    },
    {
     "name": "stdout",
     "output_type": "stream",
     "text": [
      "end\n"
     ]
    },
    {
     "data": {
      "text/plain": [
       "Text(0.5, 1.0, 'Probability to win the game for player 1 using strategy E')"
      ]
     },
     "execution_count": 23,
     "metadata": {
     },
     "output_type": "execute_result"
    },
    {
     "data": {
      "image/png": "[encoded data removed]",
      "text/plain": [
       "<Figure size 432x288 with 1 Axes>"
      ]
     },
     "execution_count": 23,
     "metadata": {
      "needs_background": "light"
     },
     "output_type": "execute_result"
    }
   ],
   "source": [
    "# E: Player 1 would only gamble if the current score is less than or equal to the other player’s score. Player 2 never gamble.\n",
    "\n",
    "for j in range(0,10):\n",
    "    x = []\n",
    "    win_1 = 0\n",
    "    for i in range(0,100000):\n",
    "        score_1 = 0\n",
    "        score_2 = 0\n",
    "        deck = [1,2,3,4,5,6,7,8,9,10,11,12,12,\n",
    "           1,2,3,4,5,6,7,8,9,10,11,12,12]\n",
    "        while len(deck) > 0:\n",
    "            item = random.choice(deck)\n",
    "            deck.remove(item)\n",
    "            roll = random.randint(1,6) + random.randint(1,6)\n",
    "            if roll >= item:\n",
    "                score_1 += item\n",
    "            elif score_1 <= score_2 :\n",
    "                roll = random.randint(1,6) + random.randint(1,6)\n",
    "                if roll >= item:\n",
    "                    score_1 += item\n",
    "                else:\n",
    "                    score_1 -= item\n",
    "                    if score_1 < 0:\n",
    "                        score_1 = 0\n",
    "            item = random.choice(deck)\n",
    "            deck.remove(item)\n",
    "            roll = random.randint(1,6) + random.randint(1,6)\n",
    "            if roll >= item:\n",
    "                score_2 += item\n",
    "        if i == 0:\n",
    "            if score_1 >= score_2:\n",
    "                x.append(1)\n",
    "            else:\n",
    "                x.append(0)\n",
    "        elif score_1 >= score_2:\n",
    "            win_1 += 1\n",
    "        x.append(win_1)\n",
    "\n",
    "    for i in range(1,100001):\n",
    "        x[i] = x[i]/i\n",
    "    print(\"end\")\n",
    "    plt.plot(range(0,100001),x)\n",
    "plt.ylim([0.46, 0.53])\n",
    "plt.xlabel('number of games')\n",
    "plt.ylabel('probability to win the game for player 1')\n",
    "plt.title('Probability to win the game for player 1 using strategy E')"
   ]
  },
  {
   "cell_type": "code",
   "execution_count": 6,
   "metadata": {
    "collapsed": false
   },
   "outputs": [
    {
     "name": "stdout",
     "output_type": "stream",
     "text": [
      "end\n"
     ]
    },
    {
     "name": "stdout",
     "output_type": "stream",
     "text": [
      "end\n"
     ]
    },
    {
     "name": "stdout",
     "output_type": "stream",
     "text": [
      "end\n"
     ]
    },
    {
     "name": "stdout",
     "output_type": "stream",
     "text": [
      "end\n"
     ]
    },
    {
     "name": "stdout",
     "output_type": "stream",
     "text": [
      "end\n"
     ]
    },
    {
     "name": "stdout",
     "output_type": "stream",
     "text": [
      "end\n"
     ]
    },
    {
     "name": "stdout",
     "output_type": "stream",
     "text": [
      "end\n"
     ]
    },
    {
     "name": "stdout",
     "output_type": "stream",
     "text": [
      "end\n"
     ]
    },
    {
     "name": "stdout",
     "output_type": "stream",
     "text": [
      "end\n"
     ]
    },
    {
     "name": "stdout",
     "output_type": "stream",
     "text": [
      "end\n"
     ]
    },
    {
     "data": {
      "text/plain": [
       "Text(0.5, 1.0, 'Probability to win the game for player 1 using strategy E')"
      ]
     },
     "execution_count": 6,
     "metadata": {
     },
     "output_type": "execute_result"
    },
    {
     "data": {
      "image/png": "[encoded data removed]",
      "text/plain": [
       "<Figure size 432x288 with 1 Axes>"
      ]
     },
     "execution_count": 6,
     "metadata": {
      "needs_background": "light"
     },
     "output_type": "execute_result"
    }
   ],
   "source": [
    "# E: Player 1 would only gamble if the current score is less than or equal to the other player’s score. Player 2 never gamble.\n",
    "for j in range(0,10):\n",
    "    x = []\n",
    "    win_1 = 0\n",
    "    for i in range(0,100000):\n",
    "        score_1 = 0\n",
    "        score_2 = 0\n",
    "        deck = [1,2,3,4,5,6,7,8,9,10,11,12,12,\n",
    "           1,2,3,4,5,6,7,8,9,10,11,12,12]\n",
    "        while len(deck) > 0:\n",
    "            item = random.choice(deck)\n",
    "            deck.remove(item)\n",
    "            roll = random.randint(1,6) + random.randint(1,6)\n",
    "            if roll >= item:\n",
    "                score_1 += item\n",
    "            elif score_1 > score_2 :\n",
    "                roll = random.randint(1,6) + random.randint(1,6)\n",
    "                if roll >= item:\n",
    "                    score_1 += item\n",
    "                else:\n",
    "                    score_1 -= item\n",
    "                    if score_1 < 0:\n",
    "                        score_1 = 0\n",
    "            item = random.choice(deck)\n",
    "            deck.remove(item)\n",
    "            roll = random.randint(1,6) + random.randint(1,6)\n",
    "            if roll >= item:\n",
    "                score_2 += item\n",
    "        if i == 0:\n",
    "            if score_1 >= score_2:\n",
    "                x.append(1)\n",
    "            else:\n",
    "                x.append(0)\n",
    "        elif score_1 >= score_2:\n",
    "            win_1 += 1\n",
    "        x.append(win_1)\n",
    "\n",
    "    for i in range(1,100001):\n",
    "        x[i] = x[i]/i\n",
    "    print(\"end\")\n",
    "    plt.plot(range(0,100001),x)\n",
    "plt.ylim([0.18, 0.24])\n",
    "plt.xlabel('number of games')\n",
    "plt.ylabel('probability to win the game for player 1')\n",
    "plt.title('Probability to win the game for player 1 using strategy E')"
   ]
  },
  {
   "cell_type": "code",
   "execution_count": 24,
   "metadata": {
    "collapsed": false
   },
   "outputs": [
    {
     "name": "stdout",
     "output_type": "stream",
     "text": [
      "end\n"
     ]
    },
    {
     "name": "stdout",
     "output_type": "stream",
     "text": [
      "end\n"
     ]
    },
    {
     "name": "stdout",
     "output_type": "stream",
     "text": [
      "end\n"
     ]
    },
    {
     "name": "stdout",
     "output_type": "stream",
     "text": [
      "end\n"
     ]
    },
    {
     "name": "stdout",
     "output_type": "stream",
     "text": [
      "end\n"
     ]
    },
    {
     "name": "stdout",
     "output_type": "stream",
     "text": [
      "end\n"
     ]
    },
    {
     "name": "stdout",
     "output_type": "stream",
     "text": [
      "end\n"
     ]
    },
    {
     "name": "stdout",
     "output_type": "stream",
     "text": [
      "end\n"
     ]
    },
    {
     "name": "stdout",
     "output_type": "stream",
     "text": [
      "end\n"
     ]
    },
    {
     "name": "stdout",
     "output_type": "stream",
     "text": [
      "end\n"
     ]
    },
    {
     "name": "stdout",
     "output_type": "stream",
     "text": [
      "0.476975230247698\n",
      "0.481905180948191\n"
     ]
    },
    {
     "data": {
      "image/png": "[encoded data removed]",
      "text/plain": [
       "<Figure size 432x288 with 1 Axes>"
      ]
     },
     "execution_count": 24,
     "metadata": {
      "needs_background": "light"
     },
     "output_type": "execute_result"
    }
   ],
   "source": [
    "# C_60 compare with D_6: Player 1 would only gamble if the current score is greater or equal than M. (M = 40, 50, 60). Player 2 never gamble.\n",
    "M = 60\n",
    "N = 6\n",
    "x_mean = []\n",
    "for j in range(0,10):\n",
    "    x = []\n",
    "    win_1 = 0\n",
    "    for i in range(0,100000):\n",
    "        score_1 = 0\n",
    "        score_2 = 0\n",
    "        deck = [1,2,3,4,5,6,7,8,9,10,11,12,12,\n",
    "           1,2,3,4,5,6,7,8,9,10,11,12,12]\n",
    "        while len(deck) > 0:\n",
    "            item = random.choice(deck)\n",
    "            deck.remove(item)\n",
    "            roll = random.randint(1,6) + random.randint(1,6)\n",
    "            if roll >= item:\n",
    "                score_1 += item\n",
    "            elif score_1 >= M:\n",
    "                roll = random.randint(1,6) + random.randint(1,6)\n",
    "                if roll >= item:\n",
    "                    score_1 += item\n",
    "                else:\n",
    "                    score_1 -= item\n",
    "                    if score_1 < 0:\n",
    "                        score_1 = 0\n",
    "            item = random.choice(deck)\n",
    "            deck.remove(item)\n",
    "            roll = random.randint(1,6) + random.randint(1,6)\n",
    "            if roll >= item:\n",
    "                score_2 += item\n",
    "            elif score_2 <= N:\n",
    "                roll = random.randint(1,6) + random.randint(1,6)\n",
    "                if roll >= item:\n",
    "                    score_2 += item\n",
    "                else:\n",
    "                    score_2 -= item\n",
    "                    if score_2 < 0:\n",
    "                        score_2 = 0\n",
    "        if i == 0:\n",
    "            if score_1 >= score_2:\n",
    "                x.append(1)\n",
    "            else:\n",
    "                x.append(0)\n",
    "        elif score_1 >= score_2:\n",
    "            win_1 += 1\n",
    "        x.append(win_1)\n",
    "    x_mean.append(win_1 / len(x))\n",
    "    for i in range(1,100001):\n",
    "        x[i] = x[i]/i\n",
    "    print(\"end\")\n",
    "    plt.plot(range(0,100001),x)\n",
    "plt.ylim([0.45, 0.5])\n",
    "plt.xlabel('number of games')\n",
    "plt.ylabel('probability to win the game for player 1')\n",
    "plt.title('Probability to win the game for player 1 using strategy C_60 and player 2 using D_6')\n",
    "print(min(x_mean)*1.)\n",
    "print(max(x_mean)*1.)"
   ]
  },
  {
   "cell_type": "code",
   "execution_count": 0,
   "metadata": {
    "collapsed": false
   },
   "outputs": [
   ],
   "source": [
   ]
  }
 ],
 "metadata": {
  "kernelspec": {
   "display_name": "SageMath 9.4",
   "language": "sagemath",
   "metadata": {
    "cocalc": {
     "description": "Open-source mathematical software system",
     "priority": 2,
     "url": "https://www.sagemath.org/"
    }
   },
   "name": "sage-9.4",
   "resource_dir": "/ext/jupyter/kernels/sage-9.4"
  },
  "language_info": {
   "codemirror_mode": {
    "name": "ipython",
    "version": 3
   },
   "file_extension": ".py",
   "mimetype": "text/x-python",
   "name": "python",
   "nbconvert_exporter": "python",
   "pygments_lexer": "ipython3",
   "version": "3.9.5"
  }
 },
 "nbformat": 4,
 "nbformat_minor": 4
}